{
 "cells": [
  {
   "cell_type": "markdown",
   "metadata": {},
   "source": [
    "# Implémentation d'un réseau CNN avec Keras"
   ]
  },
  {
   "cell_type": "markdown",
   "metadata": {},
   "source": [
    "Dans ce script, nous avons pour objectif de construire un réseau convolutif CNN afin de démontrer les limites de ce type de réseau pour la classification de données frugales."
   ]
  },
  {
   "cell_type": "code",
   "execution_count": 26,
   "metadata": {},
   "outputs": [],
   "source": [
    "import os\n",
    "import matplotlib.pyplot as plt\n",
    "import numpy as np\n",
    "import pandas as pd\n",
    "import seaborn as sns\n",
    "from sklearn import datasets\n",
    "from tensorflow.keras.optimizers import Adam\n",
    "from tensorflow.keras.losses import SparseCategoricalCrossentropy\n",
    "\n",
    "import tensorflow as tf\n",
    "from tensorflow.keras.models import Sequential\n",
    "from tensorflow.keras.layers import Dense, Conv2D, Flatten, Dropout, MaxPooling2D, BatchNormalization\n",
    "\n",
    "from sklearn.utils import shuffle"
   ]
  },
  {
   "cell_type": "markdown",
   "metadata": {},
   "source": [
    "## Premier réseau CNN"
   ]
  },
  {
   "cell_type": "code",
   "execution_count": 21,
   "metadata": {},
   "outputs": [],
   "source": [
    "# Définition des hyperparamètres\n",
    "batch_size = 64\n",
    "epochs = 10\n",
    "input_shape = (96, 96, 1)\n",
    "learning_rate = 0.001\n",
    "optimizer = tf.keras.optimizers.Adam(learning_rate=learning_rate)\n",
    "loss = tf.keras.losses.SparseCategoricalCrossentropy()"
   ]
  },
  {
   "cell_type": "code",
   "execution_count": 22,
   "metadata": {},
   "outputs": [
    {
     "name": "stdout",
     "output_type": "stream",
     "text": [
      "Model: \"sequential_2\"\n",
      "_________________________________________________________________\n",
      " Layer (type)                Output Shape              Param #   \n",
      "=================================================================\n",
      " conv2d_7 (Conv2D)           (None, 94, 94, 32)        320       \n",
      "                                                                 \n",
      " max_pooling2d_7 (MaxPoolin  (None, 47, 47, 32)        0         \n",
      " g2D)                                                            \n",
      "                                                                 \n",
      " conv2d_8 (Conv2D)           (None, 45, 45, 64)        18496     \n",
      "                                                                 \n",
      " max_pooling2d_8 (MaxPoolin  (None, 22, 22, 64)        0         \n",
      " g2D)                                                            \n",
      "                                                                 \n",
      " conv2d_9 (Conv2D)           (None, 20, 20, 128)       73856     \n",
      "                                                                 \n",
      " max_pooling2d_9 (MaxPoolin  (None, 10, 10, 128)       0         \n",
      " g2D)                                                            \n",
      "                                                                 \n",
      " flatten_2 (Flatten)         (None, 12800)             0         \n",
      "                                                                 \n",
      " dense_5 (Dense)             (None, 1024)              13108224  \n",
      "                                                                 \n",
      " dense_6 (Dense)             (None, 128)               131200    \n",
      "                                                                 \n",
      " dense_7 (Dense)             (None, 10)                1290      \n",
      "                                                                 \n",
      "=================================================================\n",
      "Total params: 13333386 (50.86 MB)\n",
      "Trainable params: 13333386 (50.86 MB)\n",
      "Non-trainable params: 0 (0.00 Byte)\n",
      "_________________________________________________________________\n"
     ]
    }
   ],
   "source": [
    "# Definition of the simplified CNN architecture\n",
    "model = Sequential([\n",
    "    Conv2D(32, (3,3), activation='relu', input_shape=(96, 96, 1)),\n",
    "    MaxPooling2D((2,2)),\n",
    "    \n",
    "    Conv2D(64, (3,3), activation='relu'),\n",
    "    MaxPooling2D((2,2)),\n",
    "\n",
    "    Conv2D(128, (3,3), activation='relu'),\n",
    "    MaxPooling2D((2,2)),\n",
    "    \n",
    "    # Conv2D(128, (3,3), activation='relu'),\n",
    "    # MaxPooling2D((2,2)),\n",
    "\n",
    "    Flatten(),\n",
    "    Dense(1024, activation='relu'),\n",
    "    # Dropout(0.5),\n",
    "    Dense(128),\n",
    "    Dense(10, activation='softmax')\n",
    "])\n",
    "\n",
    "model.compile(optimizer=optimizer, loss = loss, metrics=['accuracy'])\n",
    "\n",
    "model.summary()"
   ]
  },
  {
   "cell_type": "code",
   "execution_count": 15,
   "metadata": {},
   "outputs": [],
   "source": [
    "# Custom function to extract category labels from file paths\n",
    "def extract_category_label(file_path):\n",
    "    category = os.path.split(os.path.dirname(file_path))[1]  # Extract category from parent directory name\n",
    "    return category"
   ]
  },
  {
   "cell_type": "code",
   "execution_count": 24,
   "metadata": {},
   "outputs": [],
   "source": [
    "\n",
    "# Load train, validation, and test data from CSV files\n",
    "train_df = pd.read_csv('Split_Cargo_Bulk_Container/train.csv', header=None, names=[\"file_path\"])\n",
    "validation_df = pd.read_csv('Split_Cargo_Bulk_Container/validation.csv', header=None, names=[\"file_path\"])\n",
    "test_df = pd.read_csv('Split_Cargo_Bulk_Container/test.csv', header=None, names=[\"file_path\"])\n",
    "\n",
    "# Extract category labels from file paths\n",
    "train_df['label'] = train_df['file_path'].apply(lambda x: x.split(\"\\\\\")[0])\n",
    "validation_df['label'] = validation_df['file_path'].apply(lambda x: x.split(\"\\\\\")[0])\n",
    "test_df['label'] = test_df['file_path'].apply(lambda x: x.split(\"\\\\\")[0])"
   ]
  },
  {
   "cell_type": "code",
   "execution_count": 27,
   "metadata": {},
   "outputs": [],
   "source": [
    "# Shuffle the data\n",
    "train_df = shuffle(train_df)\n",
    "validation_df = shuffle(validation_df)\n",
    "test_df = shuffle(test_df)"
   ]
  },
  {
   "cell_type": "code",
   "execution_count": 28,
   "metadata": {},
   "outputs": [
    {
     "name": "stdout",
     "output_type": "stream",
     "text": [
      "                                              file_path           label\n",
      "2686  Container Ship\\ContainerShip_Visual_Cargo_x387...  Container Ship\n",
      "956    Cargo\\Cargo_Visual_Other Type_x25046_y966_vv.tif           Cargo\n",
      "1962  Bulk Carrier\\BulkCarrier_Visual_Cargo_x10069_y...    Bulk Carrier\n",
      "1170       Cargo\\Cargo_Visual_Cargo_x8848_y10802_vv.tif           Cargo\n",
      "865       Cargo\\Cargo_Visual_Cargo_x26646_y11053_vv.tif           Cargo\n"
     ]
    }
   ],
   "source": [
    "# Show the first few rows of the train data\n",
    "print(train_df.head())"
   ]
  },
  {
   "cell_type": "code",
   "execution_count": 29,
   "metadata": {},
   "outputs": [],
   "source": [
    "from tensorflow.keras.preprocessing.image import ImageDataGenerator\n",
    "# Initialize the ImageDataGenerator for basic image preprocessing\n",
    "train_datagen = ImageDataGenerator(rescale=1./255)\n",
    "validation_datagen = ImageDataGenerator(rescale=1./255)\n",
    "test_datagen = ImageDataGenerator(rescale=1./255)"
   ]
  },
  {
   "cell_type": "code",
   "execution_count": 30,
   "metadata": {},
   "outputs": [
    {
     "name": "stdout",
     "output_type": "stream",
     "text": [
      "Found 3019 validated image filenames belonging to 3 classes.\n",
      "Found 377 validated image filenames belonging to 3 classes.\n"
     ]
    },
    {
     "name": "stderr",
     "output_type": "stream",
     "text": [
      "c:\\Users\\Julia Fouchier\\anaconda3\\envs\\tensorflow_new\\lib\\site-packages\\keras\\src\\preprocessing\\image.py:1137: UserWarning: Found 1 invalid image filename(s) in x_col=\"file_path\". These filename(s) will be ignored.\n",
      "  warnings.warn(\n",
      "c:\\Users\\Julia Fouchier\\anaconda3\\envs\\tensorflow_new\\lib\\site-packages\\keras\\src\\preprocessing\\image.py:1137: UserWarning: Found 1 invalid image filename(s) in x_col=\"file_path\". These filename(s) will be ignored.\n",
      "  warnings.warn(\n"
     ]
    },
    {
     "name": "stdout",
     "output_type": "stream",
     "text": [
      "Found 379 validated image filenames belonging to 3 classes.\n"
     ]
    },
    {
     "name": "stderr",
     "output_type": "stream",
     "text": [
      "c:\\Users\\Julia Fouchier\\anaconda3\\envs\\tensorflow_new\\lib\\site-packages\\keras\\src\\preprocessing\\image.py:1137: UserWarning: Found 1 invalid image filename(s) in x_col=\"file_path\". These filename(s) will be ignored.\n",
      "  warnings.warn(\n"
     ]
    }
   ],
   "source": [
    "image_dir = '../OpenSARShip/Categories/'\n",
    "\n",
    "# Assuming your CSV files contain columns 'file_path' for the image paths and 'label' for the category labels\n",
    "train_generator = train_datagen.flow_from_dataframe(\n",
    "    dataframe=train_df,\n",
    "    directory=image_dir,\n",
    "    x_col=\"file_path\",\n",
    "    y_col=\"label\",\n",
    "    target_size=(96, 96),\n",
    "    color_mode=\"grayscale\",\n",
    "    batch_size=batch_size,\n",
    "    class_mode='sparse')\n",
    "\n",
    "validation_generator = validation_datagen.flow_from_dataframe(\n",
    "    dataframe=validation_df,\n",
    "    directory=image_dir,\n",
    "    x_col=\"file_path\",\n",
    "    y_col=\"label\",\n",
    "    target_size=(96, 96),\n",
    "    color_mode=\"grayscale\",\n",
    "    batch_size=batch_size,\n",
    "    class_mode='sparse')\n",
    "\n",
    "test_generator = test_datagen.flow_from_dataframe(\n",
    "    dataframe=test_df,\n",
    "    directory=image_dir,\n",
    "    x_col=\"file_path\",\n",
    "    y_col=\"label\",\n",
    "    target_size=(96, 96),\n",
    "    color_mode=\"grayscale\",\n",
    "    batch_size=batch_size,\n",
    "    class_mode='sparse')"
   ]
  },
  {
   "cell_type": "code",
   "execution_count": 31,
   "metadata": {},
   "outputs": [
    {
     "name": "stdout",
     "output_type": "stream",
     "text": [
      "Epoch 1/10\n",
      "47/47 [==============================] - 64s 1s/step - loss: 0.9633 - accuracy: 0.5486 - val_loss: 0.7885 - val_accuracy: 0.6062\n",
      "Epoch 2/10\n",
      "47/47 [==============================] - 45s 877ms/step - loss: 0.7908 - accuracy: 0.6399 - val_loss: 0.7527 - val_accuracy: 0.6625\n",
      "Epoch 3/10\n",
      "47/47 [==============================] - 55s 1s/step - loss: 0.7562 - accuracy: 0.6529 - val_loss: 0.7581 - val_accuracy: 0.6625\n",
      "Epoch 4/10\n",
      "47/47 [==============================] - 43s 834ms/step - loss: 0.7053 - accuracy: 0.6843 - val_loss: 0.7678 - val_accuracy: 0.6562\n",
      "Epoch 5/10\n",
      "47/47 [==============================] - 52s 1s/step - loss: 0.6472 - accuracy: 0.7191 - val_loss: 0.6398 - val_accuracy: 0.7250\n",
      "Epoch 6/10\n",
      "47/47 [==============================] - 60s 1s/step - loss: 0.6324 - accuracy: 0.7272 - val_loss: 0.6391 - val_accuracy: 0.7281\n",
      "Epoch 7/10\n",
      "47/47 [==============================] - 46s 897ms/step - loss: 0.5711 - accuracy: 0.7601 - val_loss: 0.6983 - val_accuracy: 0.7156\n",
      "Epoch 8/10\n",
      "47/47 [==============================] - 51s 983ms/step - loss: 0.5143 - accuracy: 0.7831 - val_loss: 0.6921 - val_accuracy: 0.7156\n",
      "Epoch 9/10\n",
      "47/47 [==============================] - 54s 1s/step - loss: 0.4839 - accuracy: 0.7912 - val_loss: 0.6411 - val_accuracy: 0.7375\n",
      "Epoch 10/10\n",
      "47/47 [==============================] - 45s 898ms/step - loss: 0.4150 - accuracy: 0.8230 - val_loss: 0.7145 - val_accuracy: 0.7406\n"
     ]
    }
   ],
   "source": [
    "history = model.fit(\n",
    "    train_generator,\n",
    "    steps_per_epoch=train_df.shape[0] // batch_size,\n",
    "    epochs=epochs,\n",
    "    validation_data=validation_generator,\n",
    "    validation_steps=validation_df.shape[0] // batch_size)"
   ]
  },
  {
   "cell_type": "code",
   "execution_count": 32,
   "metadata": {},
   "outputs": [
    {
     "name": "stdout",
     "output_type": "stream",
     "text": [
      "5/5 [==============================] - 6s 319ms/step - loss: 0.8739 - accuracy: 0.6875\n",
      "Test accuracy: 0.6875, Test loss: 0.8739288449287415\n"
     ]
    }
   ],
   "source": [
    "test_loss, test_acc = model.evaluate(test_generator, steps=test_df.shape[0] // batch_size)\n",
    "print(f\"Test accuracy: {test_acc}, Test loss: {test_loss}\")"
   ]
  },
  {
   "cell_type": "code",
   "execution_count": 33,
   "metadata": {},
   "outputs": [
    {
     "data": {
      "image/png": "[encoded data removed]",
      "text/plain": [
       "<Figure size 800x800 with 2 Axes>"
      ]
     },
     "metadata": {},
     "output_type": "display_data"
    }
   ],
   "source": [
    "import matplotlib.pyplot as plt\n",
    "\n",
    "acc = history.history['accuracy']\n",
    "val_acc = history.history['val_accuracy']\n",
    "loss = history.history['loss']\n",
    "val_loss = history.history['val_loss']\n",
    "\n",
    "epochs_range = range(epochs)\n",
    "\n",
    "plt.figure(figsize=(8, 8))\n",
    "plt.subplot(1, 2, 1)\n",
    "plt.plot(epochs_range, acc, label='Training Accuracy')\n",
    "plt.plot(epochs_range, val_acc, label='Validation Accuracy')\n",
    "plt.legend(loc='lower right')\n",
    "plt.title('Training and Validation Accuracy')\n",
    "\n",
    "plt.subplot(1, 2, 2)\n",
    "plt.plot(epochs_range, loss, label='Training Loss')\n",
    "plt.plot(epochs_range, val_loss, label='Validation Loss')\n",
    "plt.legend(loc='upper right')\n",
    "plt.title('Training and Validation Loss')\n",
    "plt.show()\n"
   ]
  },
  {
   "cell_type": "code",
   "execution_count": 23,
   "metadata": {},
   "outputs": [
    {
     "name": "stdout",
     "output_type": "stream",
     "text": [
      "Found 3019 validated image filenames.\n",
      "Found 377 validated image filenames.\n",
      "Found 379 validated image filenames.\n"
     ]
    },
    {
     "ename": "TypeError",
     "evalue": "Model.fit() got an unexpected keyword argument 'validation_y'",
     "output_type": "error",
     "traceback": [
      "\u001b[1;31m---------------------------------------------------------------------------\u001b[0m",
      "\u001b[1;31mTypeError\u001b[0m                                 Traceback (most recent call last)",
      "Cell \u001b[1;32mIn[23], line 76\u001b[0m\n\u001b[0;32m     73\u001b[0m test_labels \u001b[38;5;241m=\u001b[39m test_df[\u001b[38;5;124m'\u001b[39m\u001b[38;5;124mfile_path\u001b[39m\u001b[38;5;124m'\u001b[39m]\u001b[38;5;241m.\u001b[39mapply(extract_category_label)\n\u001b[0;32m     75\u001b[0m \u001b[38;5;66;03m# Train the model\u001b[39;00m\n\u001b[1;32m---> 76\u001b[0m history \u001b[38;5;241m=\u001b[39m \u001b[43mmodel\u001b[49m\u001b[38;5;241;43m.\u001b[39;49m\u001b[43mfit\u001b[49m\u001b[43m(\u001b[49m\n\u001b[0;32m     77\u001b[0m \u001b[43m    \u001b[49m\u001b[43mtrain_generator\u001b[49m\u001b[43m,\u001b[49m\n\u001b[0;32m     78\u001b[0m \u001b[43m    \u001b[49m\u001b[43msteps_per_epoch\u001b[49m\u001b[38;5;241;43m=\u001b[39;49m\u001b[43mtrain_generator\u001b[49m\u001b[38;5;241;43m.\u001b[39;49m\u001b[43msamples\u001b[49m\u001b[43m \u001b[49m\u001b[38;5;241;43m/\u001b[39;49m\u001b[38;5;241;43m/\u001b[39;49m\u001b[43m \u001b[49m\u001b[43mbatch_size\u001b[49m\u001b[43m,\u001b[49m\n\u001b[0;32m     79\u001b[0m \u001b[43m    \u001b[49m\u001b[43mvalidation_data\u001b[49m\u001b[38;5;241;43m=\u001b[39;49m\u001b[43mvalidation_generator\u001b[49m\u001b[43m,\u001b[49m\n\u001b[0;32m     80\u001b[0m \u001b[43m    \u001b[49m\u001b[43mvalidation_steps\u001b[49m\u001b[38;5;241;43m=\u001b[39;49m\u001b[43mvalidation_generator\u001b[49m\u001b[38;5;241;43m.\u001b[39;49m\u001b[43msamples\u001b[49m\u001b[43m \u001b[49m\u001b[38;5;241;43m/\u001b[39;49m\u001b[38;5;241;43m/\u001b[39;49m\u001b[43m \u001b[49m\u001b[43mbatch_size\u001b[49m\u001b[43m,\u001b[49m\n\u001b[0;32m     81\u001b[0m \u001b[43m    \u001b[49m\u001b[43mepochs\u001b[49m\u001b[38;5;241;43m=\u001b[39;49m\u001b[43mepochs\u001b[49m\u001b[43m,\u001b[49m\n\u001b[0;32m     82\u001b[0m \u001b[43m    \u001b[49m\u001b[43my\u001b[49m\u001b[38;5;241;43m=\u001b[39;49m\u001b[43mtrain_labels\u001b[49m\u001b[43m,\u001b[49m\u001b[43m  \u001b[49m\u001b[38;5;66;43;03m# Specify the target data for training\u001b[39;49;00m\n\u001b[0;32m     83\u001b[0m \u001b[43m    \u001b[49m\u001b[43mvalidation_y\u001b[49m\u001b[38;5;241;43m=\u001b[39;49m\u001b[43mvalidation_labels\u001b[49m\u001b[43m  \u001b[49m\u001b[38;5;66;43;03m# Specify the target data for validation\u001b[39;49;00m\n\u001b[0;32m     84\u001b[0m \u001b[43m)\u001b[49m\n\u001b[0;32m     86\u001b[0m \u001b[38;5;66;03m# Evaluate the model on the test set\u001b[39;00m\n\u001b[0;32m     87\u001b[0m test_loss, test_acc \u001b[38;5;241m=\u001b[39m model\u001b[38;5;241m.\u001b[39mevaluate(test_generator, steps\u001b[38;5;241m=\u001b[39mtest_generator\u001b[38;5;241m.\u001b[39msamples \u001b[38;5;241m/\u001b[39m\u001b[38;5;241m/\u001b[39m batch_size, y\u001b[38;5;241m=\u001b[39mtest_labels)  \u001b[38;5;66;03m# Specify the target data for testing\u001b[39;00m\n",
      "File \u001b[1;32mc:\\Users\\Julia Fouchier\\anaconda3\\envs\\tensorflow_new\\lib\\site-packages\\keras\\src\\utils\\traceback_utils.py:70\u001b[0m, in \u001b[0;36mfilter_traceback.<locals>.error_handler\u001b[1;34m(*args, **kwargs)\u001b[0m\n\u001b[0;32m     67\u001b[0m     filtered_tb \u001b[38;5;241m=\u001b[39m _process_traceback_frames(e\u001b[38;5;241m.\u001b[39m__traceback__)\n\u001b[0;32m     68\u001b[0m     \u001b[38;5;66;03m# To get the full stack trace, call:\u001b[39;00m\n\u001b[0;32m     69\u001b[0m     \u001b[38;5;66;03m# `tf.debugging.disable_traceback_filtering()`\u001b[39;00m\n\u001b[1;32m---> 70\u001b[0m     \u001b[38;5;28;01mraise\u001b[39;00m e\u001b[38;5;241m.\u001b[39mwith_traceback(filtered_tb) \u001b[38;5;28;01mfrom\u001b[39;00m \u001b[38;5;28;01mNone\u001b[39;00m\n\u001b[0;32m     71\u001b[0m \u001b[38;5;28;01mfinally\u001b[39;00m:\n\u001b[0;32m     72\u001b[0m     \u001b[38;5;28;01mdel\u001b[39;00m filtered_tb\n",
      "File \u001b[1;32mc:\\Users\\Julia Fouchier\\anaconda3\\envs\\tensorflow_new\\lib\\site-packages\\keras\\src\\utils\\traceback_utils.py:65\u001b[0m, in \u001b[0;36mfilter_traceback.<locals>.error_handler\u001b[1;34m(*args, **kwargs)\u001b[0m\n\u001b[0;32m     63\u001b[0m filtered_tb \u001b[38;5;241m=\u001b[39m \u001b[38;5;28;01mNone\u001b[39;00m\n\u001b[0;32m     64\u001b[0m \u001b[38;5;28;01mtry\u001b[39;00m:\n\u001b[1;32m---> 65\u001b[0m     \u001b[38;5;28;01mreturn\u001b[39;00m fn(\u001b[38;5;241m*\u001b[39margs, \u001b[38;5;241m*\u001b[39m\u001b[38;5;241m*\u001b[39mkwargs)\n\u001b[0;32m     66\u001b[0m \u001b[38;5;28;01mexcept\u001b[39;00m \u001b[38;5;167;01mException\u001b[39;00m \u001b[38;5;28;01mas\u001b[39;00m e:\n\u001b[0;32m     67\u001b[0m     filtered_tb \u001b[38;5;241m=\u001b[39m _process_traceback_frames(e\u001b[38;5;241m.\u001b[39m__traceback__)\n",
      "\u001b[1;31mTypeError\u001b[0m: Model.fit() got an unexpected keyword argument 'validation_y'"
     ]
    }
   ],
   "source": [
    "# import os\n",
    "\n",
    "# # Custom function to extract category labels from file paths\n",
    "# def extract_category_label(file_path):\n",
    "#     category = os.path.split(os.path.dirname(file_path))[1]  # Extract category from parent directory name\n",
    "#     return category\n",
    "\n",
    "# # Load train, validation, and test data from CSV files\n",
    "# train_df = pd.read_csv('Split_Cargo_Bulk_Container/train.csv')\n",
    "# validation_df = pd.read_csv('Split_Cargo_Bulk_Container/validation.csv')\n",
    "# test_df = pd.read_csv('Split_Cargo_Bulk_Container/test.csv')\n",
    "\n",
    "# image_dir = '../OpenSARShip/Categories/'\n",
    "\n",
    "# # Define data generators\n",
    "# train_datagen = tf.keras.preprocessing.image.ImageDataGenerator(\n",
    "#     rescale=1./255\n",
    "# )\n",
    "\n",
    "# train_generator = train_datagen.flow_from_dataframe(\n",
    "#     dataframe=train_df,\n",
    "#     directory=image_dir,\n",
    "#     x_col='file_path',\n",
    "#     y_col=None,  # No need to specify y_col here\n",
    "#     target_size=(96, 96),\n",
    "#     color_mode='grayscale',\n",
    "#     class_mode=None,  # Do not specify class_mode for custom labels\n",
    "#     batch_size=batch_size\n",
    "# )\n",
    "\n",
    "# train_generator.classes = train_df['file_path'].apply(extract_category_label)\n",
    "\n",
    "# validation_datagen = tf.keras.preprocessing.image.ImageDataGenerator(\n",
    "#     rescale=1./255\n",
    "# )\n",
    "\n",
    "# validation_generator = validation_datagen.flow_from_dataframe(\n",
    "#     dataframe=validation_df,\n",
    "#     directory=image_dir,\n",
    "#     x_col='file_path',\n",
    "#     y_col=None,  # No need to specify y_col here\n",
    "#     target_size=(96, 96),\n",
    "#     color_mode='grayscale',\n",
    "#     class_mode=None,  # Do not specify class_mode for custom labels\n",
    "#     batch_size=batch_size\n",
    "# )\n",
    "\n",
    "# validation_generator.classes = validation_df['file_path'].apply(extract_category_label)\n",
    "\n",
    "# test_datagen = tf.keras.preprocessing.image.ImageDataGenerator(rescale=1./255)\n",
    "\n",
    "# test_generator = test_datagen.flow_from_dataframe(\n",
    "#     dataframe=test_df,\n",
    "#     directory=image_dir,\n",
    "#     x_col='file_path',\n",
    "#     y_col=None,  # No need to specify y_col here\n",
    "#     target_size=(96, 96),\n",
    "#     color_mode='grayscale',\n",
    "#     class_mode=None,  # Do not specify class_mode for custom labels\n",
    "#     batch_size=batch_size\n",
    "# )\n",
    "\n",
    "# test_generator.classes = test_df['file_path'].apply(extract_category_label)\n",
    "\n",
    "# # Compile the model\n",
    "# model.compile(optimizer=Adam(learning_rate=learning_rate), \n",
    "#               loss=tf.keras.losses.SparseCategoricalCrossentropy(),\n",
    "#               metrics=['accuracy'])\n",
    "\n",
    "# # Extract labels for train, validation, and test datasets\n",
    "# train_labels = train_df['file_path'].apply(extract_category_label)\n",
    "# validation_labels = validation_df['file_path'].apply(extract_category_label)\n",
    "# test_labels = test_df['file_path'].apply(extract_category_label)\n",
    "\n",
    "# # Train the model\n",
    "# history = model.fit(\n",
    "#     train_generator,\n",
    "#     steps_per_epoch=train_generator.samples // batch_size,\n",
    "#     validation_data=validation_generator,\n",
    "#     validation_steps=validation_generator.samples // batch_size,\n",
    "#     epochs=epochs,\n",
    "#     y=train_labels,  # Specify the target data for training\n",
    "#     validation_y=validation_labels  # Specify the target data for validation\n",
    "# )\n",
    "\n",
    "# # Evaluate the model on the test set\n",
    "# test_loss, test_acc = model.evaluate(test_generator, steps=test_generator.samples // batch_size, y=test_labels)  # Specify the target data for testing\n",
    "# print(f'Test accuracy: {test_acc}')\n"
   ]
  },
  {
   "cell_type": "markdown",
   "metadata": {},
   "source": [
    "#"
   ]
  }
 ],
 "metadata": {
  "kernelspec": {
   "display_name": "tensorflow_new",
   "language": "python",
   "name": "python3"
  },
  "language_info": {
   "codemirror_mode": {
    "name": "ipython",
    "version": 3
   },
   "file_extension": ".py",
   "mimetype": "text/x-python",
   "name": "python",
   "nbconvert_exporter": "python",
   "pygments_lexer": "ipython3",
   "version": "3.10.13"
  }
 },
 "nbformat": 4,
 "nbformat_minor": 2
}

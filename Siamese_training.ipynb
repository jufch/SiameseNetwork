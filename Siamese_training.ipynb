{
 "cells": [
  {
   "cell_type": "markdown",
   "metadata": {},
   "source": [
    "# Training of Siamese Networks"
   ]
  },
  {
   "cell_type": "code",
   "execution_count": 2,
   "metadata": {},
   "outputs": [],
   "source": [
    "import numpy as np\n",
    "import os\n",
    "import pandas as pd\n",
    "\n",
    "from tensorflow.keras.layers import Dense, Conv2D, Flatten, Dropout, MaxPooling2D, BatchNormalization\n",
    "from tensorflow.keras.models import Sequential\n",
    "from tensorflow.keras.optimizers import Adam\n",
    "import tensorflow as tf\n",
    "\n",
    "from Siamese_model import SiameseTrainer\n",
    "\n",
    "from tensorflow.keras.preprocessing.image import load_img, img_to_array\n"
   ]
  },
  {
   "cell_type": "code",
   "execution_count": 3,
   "metadata": {},
   "outputs": [],
   "source": [
    "def create_pairs(x, digit_indices, num_classes):\n",
    "    \"\"\"Creates a balanced dataset of pairs for Siamese networks.\"\"\"\n",
    "    pairs = []\n",
    "    labels = []\n",
    "\n",
    "    # n: smallest number of instances among all classes in the dataset\n",
    "    n = min([len(digit_indices[d]) for d in range(num_classes)]) - 1\n",
    "    \n",
    "    for d in range(num_classes):\n",
    "        for i in range(n):\n",
    "            z1, z2 = digit_indices[d][i], digit_indices[d][i + 1]\n",
    "            pairs += [[x[z1], x[z2]]]\n",
    "            inc = np.random.randint(1, num_classes)\n",
    "            dn = (d + inc) % num_classes\n",
    "            z1, z2 = digit_indices[d][i], digit_indices[dn][i]\n",
    "            pairs += [[x[z1], x[z2]]]\n",
    "            labels += [1, 0]\n",
    "    return np.array(pairs), np.array(labels)"
   ]
  },
  {
   "cell_type": "code",
   "execution_count": 4,
   "metadata": {},
   "outputs": [],
   "source": [
    "def train(self, x_train, y_train, x_val, y_val, batch_size=32, epochs=10):\n",
    "    # Create digit_indices for training and validation sets\n",
    "    digit_indices_train = [np.where(y_train == i)[0] for i in range(self.num_classes)]\n",
    "    digit_indices_val = [np.where(y_val == i)[0] for i in range(self.num_classes)]\n",
    "\n",
    "    # Create training pairs\n",
    "    tr_pairs, tr_y = create_pairs(x_train, digit_indices_train, self.num_classes)\n",
    "\n",
    "    # Create validation pairs\n",
    "    val_pairs, val_y = create_pairs(x_val, digit_indices_val, self.num_classes)\n",
    "\n",
    "    # Train the model\n",
    "    self.history = self.model.fit([tr_pairs[:, 0], tr_pairs[:, 1]], tr_y,\n",
    "                                  batch_size=batch_size,\n",
    "                                  epochs=epochs,\n",
    "                                  validation_data=([val_pairs[:, 0], val_pairs[:, 1]], val_y))\n"
   ]
  },
  {
   "cell_type": "code",
   "execution_count": 5,
   "metadata": {},
   "outputs": [],
   "source": [
    "def load_and_preprocess_image(path, target_size=(96, 96)):\n",
    "    img = load_img(path, target_size=target_size, color_mode='grayscale')\n",
    "    img = img_to_array(img)\n",
    "    img = np.expand_dims(img, axis=0)\n",
    "    img /= 255.0  # Normalize to [0,1]\n",
    "    return img\n",
    "\n",
    "# def load_pairs_and_labels(csv_path, image_base_path):\n",
    "#     df = pd.read_csv(csv_path)\n",
    "#     pairs = []\n",
    "#     labels = df['label'].values\n",
    "    \n",
    "#     for idx, row in df.iterrows():\n",
    "#         img1_path = os.path.join(image_base_path, row['image_1'])\n",
    "#         img2_path = os.path.join(image_base_path, row['image_2'])\n",
    "        \n",
    "#         img1 = load_and_preprocess_image(img1_path)\n",
    "#         img2 = load_and_preprocess_image(img2_path)\n",
    "        \n",
    "#         pairs.append([img1, img2])\n",
    "    \n",
    "#     pairs = np.array(pairs)\n",
    "#     # Reshape to fit the Siamese network input\n",
    "#     pairs = [pairs[:, 0].squeeze(), pairs[:, 1].squeeze()]\n",
    "    \n",
    "#     return pairs, labels\n",
    "\n",
    "def load_pairs_and_labels(csv_path, image_base_path):\n",
    "    df = pd.read_csv(csv_path)\n",
    "    pair_images = []\n",
    "    labels = df['label'].values\n",
    "    \n",
    "    for idx, row in df.iterrows():\n",
    "        img1_path = os.path.join(image_base_path, row['image_1'])\n",
    "        img2_path = os.path.join(image_base_path, row['image_2'])\n",
    "        \n",
    "        img1 = load_and_preprocess_image(img1_path)\n",
    "        img2 = load_and_preprocess_image(img2_path)\n",
    "        \n",
    "        pair_images.append(np.concatenate([img1, img2], axis=0))\n",
    "    \n",
    "    # Convert list of pairs to a numpy array\n",
    "    pairs = np.array(pair_images)\n",
    "    \n",
    "    # Since each image pair is concatenated along axis=0, we reshape to ensure\n",
    "    # the final structure is compatible with what train_model expects\n",
    "    pairs = pairs.reshape(-1, 2, *pairs.shape[2:])\n",
    "    \n",
    "    return pairs, labels\n"
   ]
  },
  {
   "cell_type": "code",
   "execution_count": 6,
   "metadata": {},
   "outputs": [],
   "source": [
    "# Create a CNNModel object\n",
    "def simple_cnn(input_shape, num_classes):\n",
    "    model = Sequential([\n",
    "        Conv2D(32, (3,3), activation='relu', input_shape=input_shape),\n",
    "        MaxPooling2D((2,2)),\n",
    "        Conv2D(64, (3,3), activation='relu'),\n",
    "        MaxPooling2D((2,2)),\n",
    "        Conv2D(128, (3,3), activation='relu'),\n",
    "        MaxPooling2D((2,2)),\n",
    "        Flatten(),\n",
    "        Dense(1024, activation='relu'),\n",
    "        Dense(128, activation='relu'),\n",
    "        Dense(num_classes, activation='softmax')\n",
    "    ])\n",
    "    return model"
   ]
  },
  {
   "cell_type": "code",
   "execution_count": 7,
   "metadata": {},
   "outputs": [],
   "source": [
    "def new_model(input_shape, num_classes):\n",
    "    model = Sequential([\n",
    "        Conv2D(32, (3,3), activation='relu', input_shape=input_shape),\n",
    "        MaxPooling2D((2,2)),\n",
    "        BatchNormalization(),\n",
    "        Dropout(0.25),\n",
    "        Conv2D(64, (3,3), activation='relu'),\n",
    "        MaxPooling2D((2,2)),\n",
    "        Conv2D(128, (3,3), activation='relu'),\n",
    "        MaxPooling2D((2,2)),\n",
    "        Flatten(),\n",
    "        Dense(1024, activation='relu'),\n",
    "        Dense(128, activation='relu'),\n",
    "        Dense(num_classes, activation='softmax')\n",
    "    ])\n",
    "    return model"
   ]
  },
  {
   "cell_type": "code",
   "execution_count": 8,
   "metadata": {},
   "outputs": [],
   "source": [
    "input_shape = (96, 96, 1)\n",
    "num_classes = 3\n",
    "epochs = 10\n",
    "\n",
    "train_path = os.getcwd() + \"/Split_Siamese/train.csv\"\n",
    "validation_path = os.getcwd() + \"/Split_Siamese/validation.csv\"\n",
    "test_path = os.getcwd() + \"/Split_Siamese/test.csv\"\n",
    "\n",
    "image_dir = '../OpenSARShip/Categories/'"
   ]
  },
  {
   "cell_type": "code",
   "execution_count": 9,
   "metadata": {},
   "outputs": [],
   "source": [
    "model = simple_cnn(input_shape, num_classes)"
   ]
  },
  {
   "cell_type": "code",
   "execution_count": 10,
   "metadata": {},
   "outputs": [],
   "source": [
    "model_new = new_model(input_shape, num_classes)"
   ]
  },
  {
   "cell_type": "code",
   "execution_count": 11,
   "metadata": {},
   "outputs": [
    {
     "name": "stdout",
     "output_type": "stream",
     "text": [
      "Loading and preprocessing the data train\n",
      "Loading and preprocessing the data val\n",
      "Loading and preprocessing the data test\n"
     ]
    }
   ],
   "source": [
    "# Define paths\n",
    "# image_base_path = '../OpenSARShip/Categories/'\n",
    "# train_csv_path = os.getcwd() + \"/Split_Siamese/train_pairs.csv\"\n",
    "# val_csv_path = os.getcwd() + \"/Split_Siamese/val_pairs.csv\"\n",
    "# test_csv_path = os.getcwd() + \"/Split_Siamese/test_pairs.csv\"\n",
    "\n",
    "# # Load and preprocess the data\n",
    "# print(\"Loading and preprocessing the data train\")\n",
    "# train_pairs, train_labels = load_pairs_and_labels(train_csv_path, image_base_path)\n",
    "# print(\"Loading and preprocessing the data val\")\n",
    "# val_pairs, val_labels = load_pairs_and_labels(val_csv_path, image_base_path)\n",
    "# print(\"Loading and preprocessing the data test\")\n",
    "# test_pairs, test_labels = load_pairs_and_labels(test_csv_path, image_base_path)\n",
    "\n",
    "# Define path for quater dataset\n",
    "image_base_path = '../OpenSARShip/Categories/'\n",
    "\n",
    "train_csv_path = os.getcwd() + \"/Split_quater_siamese/train_pairs.csv\"\n",
    "val_csv_path = os.getcwd() + \"/Split_quater_siamese/val_pairs.csv\"\n",
    "test_csv_path = os.getcwd() + \"/Split_quater_siamese/test_pairs.csv\"\n",
    "\n",
    "# Load and preprocess the data\n",
    "print(\"Loading and preprocessing the data train\")\n",
    "train_pairs, train_labels = load_pairs_and_labels(train_csv_path, image_base_path)\n",
    "print(\"Loading and preprocessing the data val\")\n",
    "val_pairs, val_labels = load_pairs_and_labels(val_csv_path, image_base_path)\n",
    "print(\"Loading and preprocessing the data test\")\n",
    "test_pairs, test_labels = load_pairs_and_labels(test_csv_path, image_base_path)\n"
   ]
  },
  {
   "cell_type": "code",
   "execution_count": 12,
   "metadata": {},
   "outputs": [],
   "source": [
    "# print(type(train_pairs), type(train_labels))\n",
    "# print(train_pairs.shape, train_labels.shape)"
   ]
  },
  {
   "cell_type": "code",
   "execution_count": 13,
   "metadata": {},
   "outputs": [
    {
     "name": "stdout",
     "output_type": "stream",
     "text": [
      "Creating the SiameseTrainer\n",
      "Compiling the model\n",
      "Training the model\n",
      "Epoch 1/30\n",
      "383/383 [==============================] - ETA: 0s - loss: 0.5631 - accuracy: 0.6832\n",
      "Epoch 1: val_accuracy improved from -inf to 0.58273, saving model to Siam_batch32_quater_data.pth\n",
      "INFO:tensorflow:Assets written to: Siam_batch32_quater_data.pth\\assets\n"
     ]
    },
    {
     "name": "stderr",
     "output_type": "stream",
     "text": [
      "INFO:tensorflow:Assets written to: Siam_batch32_quater_data.pth\\assets\n"
     ]
    },
    {
     "name": "stdout",
     "output_type": "stream",
     "text": [
      "383/383 [==============================] - 110s 285ms/step - loss: 0.5631 - accuracy: 0.6832 - val_loss: 0.6726 - val_accuracy: 0.5827\n",
      "Epoch 2/30\n",
      "383/383 [==============================] - ETA: 0s - loss: 0.4757 - accuracy: 0.7909\n",
      "Epoch 2: val_accuracy improved from 0.58273 to 0.62845, saving model to Siam_batch32_quater_data.pth\n",
      "INFO:tensorflow:Assets written to: Siam_batch32_quater_data.pth\\assets\n"
     ]
    },
    {
     "name": "stderr",
     "output_type": "stream",
     "text": [
      "INFO:tensorflow:Assets written to: Siam_batch32_quater_data.pth\\assets\n"
     ]
    },
    {
     "name": "stdout",
     "output_type": "stream",
     "text": [
      "383/383 [==============================] - 108s 281ms/step - loss: 0.4757 - accuracy: 0.7909 - val_loss: 0.6587 - val_accuracy: 0.6284\n",
      "Epoch 3/30\n",
      "383/383 [==============================] - ETA: 0s - loss: 0.4612 - accuracy: 0.8023\n",
      "Epoch 3: val_accuracy did not improve from 0.62845\n",
      "383/383 [==============================] - 111s 289ms/step - loss: 0.4612 - accuracy: 0.8023 - val_loss: 0.7946 - val_accuracy: 0.5363\n",
      "Epoch 4/30\n",
      "383/383 [==============================] - ETA: 0s - loss: 0.4503 - accuracy: 0.8056\n",
      "Epoch 4: val_accuracy did not improve from 0.62845\n",
      "383/383 [==============================] - 109s 285ms/step - loss: 0.4503 - accuracy: 0.8056 - val_loss: 0.7491 - val_accuracy: 0.5784\n",
      "Epoch 5/30\n",
      "383/383 [==============================] - ETA: 0s - loss: 0.3518 - accuracy: 0.8908\n",
      "Epoch 5: val_accuracy did not improve from 0.62845\n",
      "383/383 [==============================] - 109s 284ms/step - loss: 0.3518 - accuracy: 0.8908 - val_loss: 0.8159 - val_accuracy: 0.5827\n",
      "Epoch 6/30\n",
      "383/383 [==============================] - ETA: 0s - loss: 0.3123 - accuracy: 0.9070\n",
      "Epoch 6: val_accuracy did not improve from 0.62845\n",
      "383/383 [==============================] - 109s 285ms/step - loss: 0.3123 - accuracy: 0.9070 - val_loss: 0.8414 - val_accuracy: 0.5813\n",
      "Epoch 7/30\n",
      "383/383 [==============================] - ETA: 0s - loss: 0.3042 - accuracy: 0.9070\n",
      "Epoch 7: val_accuracy did not improve from 0.62845\n",
      "383/383 [==============================] - 109s 284ms/step - loss: 0.3042 - accuracy: 0.9070 - val_loss: 0.8651 - val_accuracy: 0.5813\n",
      "Epoch 8/30\n",
      "383/383 [==============================] - ETA: 0s - loss: 0.2929 - accuracy: 0.9100\n",
      "Epoch 8: val_accuracy did not improve from 0.62845\n",
      "383/383 [==============================] - 109s 284ms/step - loss: 0.2929 - accuracy: 0.9100 - val_loss: 0.8501 - val_accuracy: 0.6234\n",
      "Epoch 9/30\n",
      "383/383 [==============================] - ETA: 0s - loss: 0.2874 - accuracy: 0.9111\n",
      "Epoch 9: val_accuracy did not improve from 0.62845\n",
      "383/383 [==============================] - 109s 284ms/step - loss: 0.2874 - accuracy: 0.9111 - val_loss: 0.8642 - val_accuracy: 0.6060\n",
      "Epoch 10/30\n",
      "383/383 [==============================] - ETA: 0s - loss: 0.2707 - accuracy: 0.9191\n",
      "Epoch 10: val_accuracy did not improve from 0.62845\n",
      "383/383 [==============================] - 109s 284ms/step - loss: 0.2707 - accuracy: 0.9191 - val_loss: 0.9145 - val_accuracy: 0.5965\n",
      "Epoch 11/30\n",
      "383/383 [==============================] - ETA: 0s - loss: 0.2658 - accuracy: 0.9203\n",
      "Epoch 11: val_accuracy did not improve from 0.62845\n",
      "383/383 [==============================] - 109s 284ms/step - loss: 0.2658 - accuracy: 0.9203 - val_loss: 0.9023 - val_accuracy: 0.6103\n",
      "Epoch 12/30\n",
      "383/383 [==============================] - ETA: 0s - loss: 0.2641 - accuracy: 0.9201\n",
      "Epoch 12: val_accuracy did not improve from 0.62845\n",
      "383/383 [==============================] - 109s 284ms/step - loss: 0.2641 - accuracy: 0.9201 - val_loss: 0.9024 - val_accuracy: 0.6030\n",
      "Epoch 13/30\n",
      "383/383 [==============================] - ETA: 0s - loss: 0.9195 - accuracy: 0.4754\n",
      "Epoch 13: val_accuracy did not improve from 0.62845\n",
      "383/383 [==============================] - 110s 286ms/step - loss: 0.9195 - accuracy: 0.4754 - val_loss: 0.8588 - val_accuracy: 0.4470\n",
      "Epoch 14/30\n",
      "383/383 [==============================] - ETA: 0s - loss: 0.8058 - accuracy: 0.4520\n",
      "Epoch 14: val_accuracy did not improve from 0.62845\n",
      "383/383 [==============================] - 109s 286ms/step - loss: 0.8058 - accuracy: 0.4520 - val_loss: 0.7714 - val_accuracy: 0.4470\n",
      "Epoch 15/30\n",
      "383/383 [==============================] - ETA: 0s - loss: 0.7452 - accuracy: 0.4520\n",
      "Epoch 15: val_accuracy did not improve from 0.62845\n",
      "383/383 [==============================] - 109s 285ms/step - loss: 0.7452 - accuracy: 0.4520 - val_loss: 0.7284 - val_accuracy: 0.4470\n",
      "Epoch 16/30\n",
      "383/383 [==============================] - ETA: 0s - loss: 0.7149 - accuracy: 0.4520\n",
      "Epoch 16: val_accuracy did not improve from 0.62845\n",
      "383/383 [==============================] - 109s 284ms/step - loss: 0.7149 - accuracy: 0.4520 - val_loss: 0.7065 - val_accuracy: 0.4470\n",
      "Epoch 17/30\n",
      "383/383 [==============================] - ETA: 0s - loss: 0.7003 - accuracy: 0.4520\n",
      "Epoch 17: val_accuracy did not improve from 0.62845\n",
      "383/383 [==============================] - 109s 285ms/step - loss: 0.7003 - accuracy: 0.4520 - val_loss: 0.6963 - val_accuracy: 0.4470\n",
      "Epoch 18/30\n",
      "383/383 [==============================] - ETA: 0s - loss: 0.6934 - accuracy: 0.4992\n",
      "Epoch 18: val_accuracy did not improve from 0.62845\n",
      "383/383 [==============================] - 109s 285ms/step - loss: 0.6934 - accuracy: 0.4992 - val_loss: 0.6912 - val_accuracy: 0.5530\n",
      "Epoch 19/30\n",
      "383/383 [==============================] - ETA: 0s - loss: 0.6903 - accuracy: 0.5480\n",
      "Epoch 19: val_accuracy did not improve from 0.62845\n",
      "383/383 [==============================] - 109s 285ms/step - loss: 0.6903 - accuracy: 0.5480 - val_loss: 0.6891 - val_accuracy: 0.5530\n",
      "Epoch 20/30\n",
      "383/383 [==============================] - ETA: 0s - loss: 0.6892 - accuracy: 0.5480\n",
      "Epoch 20: val_accuracy did not improve from 0.62845\n",
      "383/383 [==============================] - 109s 285ms/step - loss: 0.6892 - accuracy: 0.5480 - val_loss: 0.6881 - val_accuracy: 0.5530\n",
      "Epoch 21/30\n",
      "383/383 [==============================] - ETA: 0s - loss: 0.6887 - accuracy: 0.5480\n",
      "Epoch 21: val_accuracy did not improve from 0.62845\n",
      "383/383 [==============================] - 109s 284ms/step - loss: 0.6887 - accuracy: 0.5480 - val_loss: 0.6878 - val_accuracy: 0.5530\n",
      "Epoch 22/30\n",
      "383/383 [==============================] - ETA: 0s - loss: 0.6886 - accuracy: 0.5480\n",
      "Epoch 22: val_accuracy did not improve from 0.62845\n",
      "383/383 [==============================] - 109s 284ms/step - loss: 0.6886 - accuracy: 0.5480 - val_loss: 0.6877 - val_accuracy: 0.5530\n",
      "Epoch 23/30\n",
      "383/383 [==============================] - ETA: 0s - loss: 0.6886 - accuracy: 0.5480\n",
      "Epoch 23: val_accuracy did not improve from 0.62845\n",
      "383/383 [==============================] - 109s 285ms/step - loss: 0.6886 - accuracy: 0.5480 - val_loss: 0.6876 - val_accuracy: 0.5530\n",
      "Epoch 24/30\n",
      "383/383 [==============================] - ETA: 0s - loss: 0.6886 - accuracy: 0.5480\n",
      "Epoch 24: val_accuracy did not improve from 0.62845\n",
      "383/383 [==============================] - 109s 285ms/step - loss: 0.6886 - accuracy: 0.5480 - val_loss: 0.6876 - val_accuracy: 0.5530\n",
      "Epoch 25/30\n",
      "383/383 [==============================] - ETA: 0s - loss: 0.6886 - accuracy: 0.5480\n",
      "Epoch 25: val_accuracy did not improve from 0.62845\n",
      "383/383 [==============================] - 109s 285ms/step - loss: 0.6886 - accuracy: 0.5480 - val_loss: 0.6876 - val_accuracy: 0.5530\n",
      "Epoch 26/30\n",
      "383/383 [==============================] - ETA: 0s - loss: 0.6886 - accuracy: 0.5480\n",
      "Epoch 26: val_accuracy did not improve from 0.62845\n",
      "383/383 [==============================] - 109s 286ms/step - loss: 0.6886 - accuracy: 0.5480 - val_loss: 0.6876 - val_accuracy: 0.5530\n",
      "Epoch 27/30\n",
      "383/383 [==============================] - ETA: 0s - loss: 0.6885 - accuracy: 0.5480\n",
      "Epoch 27: val_accuracy did not improve from 0.62845\n",
      "383/383 [==============================] - 109s 285ms/step - loss: 0.6885 - accuracy: 0.5480 - val_loss: 0.6876 - val_accuracy: 0.5530\n",
      "Epoch 28/30\n",
      "383/383 [==============================] - ETA: 0s - loss: 0.6886 - accuracy: 0.5480\n",
      "Epoch 28: val_accuracy did not improve from 0.62845\n",
      "383/383 [==============================] - 111s 290ms/step - loss: 0.6886 - accuracy: 0.5480 - val_loss: 0.6876 - val_accuracy: 0.5530\n",
      "Epoch 29/30\n",
      "383/383 [==============================] - ETA: 0s - loss: 0.6886 - accuracy: 0.5480\n",
      "Epoch 29: val_accuracy did not improve from 0.62845\n",
      "383/383 [==============================] - 110s 286ms/step - loss: 0.6886 - accuracy: 0.5480 - val_loss: 0.6876 - val_accuracy: 0.5530\n",
      "Epoch 30/30\n",
      "383/383 [==============================] - ETA: 0s - loss: 0.6885 - accuracy: 0.5480\n",
      "Epoch 30: val_accuracy did not improve from 0.62845\n",
      "383/383 [==============================] - 109s 285ms/step - loss: 0.6885 - accuracy: 0.5480 - val_loss: 0.6876 - val_accuracy: 0.5530\n",
      "INFO:tensorflow:Assets written to: Siam_batch32_quater_data.pth\\assets\n"
     ]
    },
    {
     "name": "stderr",
     "output_type": "stream",
     "text": [
      "INFO:tensorflow:Assets written to: Siam_batch32_quater_data.pth\\assets\n"
     ]
    },
    {
     "name": "stdout",
     "output_type": "stream",
     "text": [
      "New best model with validation accuracy 0.5529752969741821 saved as Siam_batch32_quater_data.pth\n",
      "Plotting the training history\n"
     ]
    },
    {
     "data": {
      "image/png": "[encoded data removed]",
      "text/plain": [
       "<Figure size 1200x400 with 2 Axes>"
      ]
     },
     "metadata": {},
     "output_type": "display_data"
    },
    {
     "name": "stdout",
     "output_type": "stream",
     "text": [
      "Evaluating the model\n",
      "42/42 [==============================] - 2s 43ms/step - loss: 0.6811 - accuracy: 0.5860\n",
      "Test accuracy:  0.5859728455543518\n"
     ]
    }
   ],
   "source": [
    "# Assuming `simple_cnn` and `SiameseTrainer` are defined as before\n",
    "print(\"Creating the SiameseTrainer\")\n",
    "siamese_network = SiameseTrainer(base_model_func=simple_cnn, input_shape=(96, 96, 1), num_classes=num_classes)\n",
    "# siamese_network = SiameseTrainer(base_model_func=new_model, input_shape=(96, 96, 1), num_classes=num_classes)\n",
    "\n",
    "# Set the optimizer\n",
    "initial_learning_rate = 0.001\n",
    "lr_schedule = tf.keras.optimizers.schedules.ExponentialDecay(\n",
    "    initial_learning_rate,\n",
    "    decay_steps=1000,\n",
    "    decay_rate=0.96,\n",
    "    staircase=True)\n",
    "\n",
    "optimizer = Adam(learning_rate=lr_schedule)\n",
    "\n",
    "# Compile the model\n",
    "print(\"Compiling the model\")\n",
    "# siamese_network.compile_model(optimizer='adam', loss='binary_crossentropy')\n",
    "siamese_network.compile_model(optimizer=optimizer, loss='binary_crossentropy')\n",
    "\n",
    "\n",
    "# Train the model\n",
    "print(\"Training the model\")\n",
    "# siamese_network.train_model(train_pairs, train_labels, val_pairs, val_labels, epochs=10, batch_size=32)\n",
    "siamese_network.train_model(train_pairs, train_labels, val_pairs, val_labels, epochs=30, batch_size=32, model_save_name='Siam_batch32_quater_data.pth')\n",
    "\n",
    "\n",
    "# Plot training history\n",
    "print(\"Plotting the training history\")\n",
    "siamese_network.plot_training()\n",
    "\n",
    "# Evaluate the model\n",
    "print(\"Evaluating the model\")\n",
    "siamese_network.evaluate_model(test_pairs, test_labels)\n"
   ]
  },
  {
   "cell_type": "code",
   "execution_count": 15,
   "metadata": {},
   "outputs": [
    {
     "name": "stdout",
     "output_type": "stream",
     "text": [
      "Plotting the confusion matrix\n",
      "42/42 [==============================] - 2s 44ms/step\n"
     ]
    },
    {
     "data": {
      "image/png": "[encoded data removed]",
      "text/plain": [
       "<Figure size 640x480 with 2 Axes>"
      ]
     },
     "metadata": {},
     "output_type": "display_data"
    }
   ],
   "source": [
    "# Plot the confusion matrix\n",
    "print(\"Plotting the confusion matrix\")\n",
    "siamese_network.plot_confusion_matrix(test_pairs, test_labels)"
   ]
  },
  {
   "cell_type": "code",
   "execution_count": 14,
   "metadata": {},
   "outputs": [],
   "source": [
    "# # Assuming you have defined `simple_cnn` as before and have loaded your dataset\n",
    "# siamese_network = SiameseTrainer(base_model_func=simple_cnn, input_shape=input_shape, num_classes=num_classes)\n",
    "\n",
    "# # Compile the model with the desired optimizer, loss, and metrics\n",
    "# siamese_network.compile_model(optimizer='adam', loss='binary_crossentropy')\n",
    "\n",
    "# # Train the model\n",
    "# siamese_network.train(x_train, y_train, x_val, y_val, batch_size=32, epochs=10)\n",
    "\n",
    "# # Plot training history\n",
    "# siamese_network.plot_training_history()\n",
    "\n",
    "# # Optionally, evaluate the model on a test set prepared in a similar way\n",
    "# # siamese_network.evaluate_model(x_test, y_test)\n"
   ]
  }
 ],
 "metadata": {
  "kernelspec": {
   "display_name": "tensorflow_new",
   "language": "python",
   "name": "python3"
  },
  "language_info": {
   "codemirror_mode": {
    "name": "ipython",
    "version": 3
   },
   "file_extension": ".py",
   "mimetype": "text/x-python",
   "name": "python",
   "nbconvert_exporter": "python",
   "pygments_lexer": "ipython3",
   "version": "3.10.13"
  }
 },
 "nbformat": 4,
 "nbformat_minor": 2
}

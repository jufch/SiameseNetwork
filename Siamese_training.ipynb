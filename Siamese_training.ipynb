{
 "cells": [
  {
   "cell_type": "markdown",
   "metadata": {},
   "source": [
    "# Training of Siamese Networks"
   ]
  },
  {
   "cell_type": "code",
   "execution_count": 10,
   "metadata": {},
   "outputs": [
    {
     "name": "stdout",
     "output_type": "stream",
     "text": [
      "Requirement already satisfied: tensorflow==2.14.0 in c:\\users\\mathi\\anaconda3\\envs\\tensorflow_new\\lib\\site-packages (2.14.0)\n",
      "Requirement already satisfied: tensorflow-intel==2.14.0 in c:\\users\\mathi\\anaconda3\\envs\\tensorflow_new\\lib\\site-packages (from tensorflow==2.14.0) (2.14.0)\n",
      "Requirement already satisfied: absl-py>=1.0.0 in c:\\users\\mathi\\anaconda3\\envs\\tensorflow_new\\lib\\site-packages (from tensorflow-intel==2.14.0->tensorflow==2.14.0) (2.1.0)\n",
      "Requirement already satisfied: astunparse>=1.6.0 in c:\\users\\mathi\\anaconda3\\envs\\tensorflow_new\\lib\\site-packages (from tensorflow-intel==2.14.0->tensorflow==2.14.0) (1.6.3)\n",
      "Requirement already satisfied: flatbuffers>=23.5.26 in c:\\users\\mathi\\anaconda3\\envs\\tensorflow_new\\lib\\site-packages (from tensorflow-intel==2.14.0->tensorflow==2.14.0) (23.5.26)\n",
      "Requirement already satisfied: gast!=0.5.0,!=0.5.1,!=0.5.2,>=0.2.1 in c:\\users\\mathi\\anaconda3\\envs\\tensorflow_new\\lib\\site-packages (from tensorflow-intel==2.14.0->tensorflow==2.14.0) (0.5.4)\n",
      "Requirement already satisfied: google-pasta>=0.1.1 in c:\\users\\mathi\\anaconda3\\envs\\tensorflow_new\\lib\\site-packages (from tensorflow-intel==2.14.0->tensorflow==2.14.0) (0.2.0)\n",
      "Requirement already satisfied: h5py>=2.9.0 in c:\\users\\mathi\\anaconda3\\envs\\tensorflow_new\\lib\\site-packages (from tensorflow-intel==2.14.0->tensorflow==2.14.0) (3.10.0)\n",
      "Requirement already satisfied: libclang>=13.0.0 in c:\\users\\mathi\\anaconda3\\envs\\tensorflow_new\\lib\\site-packages (from tensorflow-intel==2.14.0->tensorflow==2.14.0) (16.0.6)\n",
      "Requirement already satisfied: ml-dtypes==0.2.0 in c:\\users\\mathi\\anaconda3\\envs\\tensorflow_new\\lib\\site-packages (from tensorflow-intel==2.14.0->tensorflow==2.14.0) (0.2.0)\n",
      "Requirement already satisfied: numpy>=1.23.5 in c:\\users\\mathi\\anaconda3\\envs\\tensorflow_new\\lib\\site-packages (from tensorflow-intel==2.14.0->tensorflow==2.14.0) (1.26.4)\n",
      "Requirement already satisfied: opt-einsum>=2.3.2 in c:\\users\\mathi\\anaconda3\\envs\\tensorflow_new\\lib\\site-packages (from tensorflow-intel==2.14.0->tensorflow==2.14.0) (3.3.0)\n",
      "Requirement already satisfied: packaging in c:\\users\\mathi\\anaconda3\\envs\\tensorflow_new\\lib\\site-packages (from tensorflow-intel==2.14.0->tensorflow==2.14.0) (23.2)\n",
      "Requirement already satisfied: protobuf!=4.21.0,!=4.21.1,!=4.21.2,!=4.21.3,!=4.21.4,!=4.21.5,<5.0.0dev,>=3.20.3 in c:\\users\\mathi\\anaconda3\\envs\\tensorflow_new\\lib\\site-packages (from tensorflow-intel==2.14.0->tensorflow==2.14.0) (4.25.3)\n",
      "Requirement already satisfied: setuptools in c:\\users\\mathi\\anaconda3\\envs\\tensorflow_new\\lib\\site-packages (from tensorflow-intel==2.14.0->tensorflow==2.14.0) (68.2.2)\n",
      "Requirement already satisfied: six>=1.12.0 in c:\\users\\mathi\\anaconda3\\envs\\tensorflow_new\\lib\\site-packages (from tensorflow-intel==2.14.0->tensorflow==2.14.0) (1.16.0)\n",
      "Requirement already satisfied: termcolor>=1.1.0 in c:\\users\\mathi\\anaconda3\\envs\\tensorflow_new\\lib\\site-packages (from tensorflow-intel==2.14.0->tensorflow==2.14.0) (2.4.0)\n",
      "Requirement already satisfied: typing-extensions>=3.6.6 in c:\\users\\mathi\\anaconda3\\envs\\tensorflow_new\\lib\\site-packages (from tensorflow-intel==2.14.0->tensorflow==2.14.0) (4.9.0)\n",
      "Requirement already satisfied: wrapt<1.15,>=1.11.0 in c:\\users\\mathi\\anaconda3\\envs\\tensorflow_new\\lib\\site-packages (from tensorflow-intel==2.14.0->tensorflow==2.14.0) (1.14.1)\n",
      "Requirement already satisfied: tensorflow-io-gcs-filesystem>=0.23.1 in c:\\users\\mathi\\anaconda3\\envs\\tensorflow_new\\lib\\site-packages (from tensorflow-intel==2.14.0->tensorflow==2.14.0) (0.31.0)\n",
      "Requirement already satisfied: grpcio<2.0,>=1.24.3 in c:\\users\\mathi\\anaconda3\\envs\\tensorflow_new\\lib\\site-packages (from tensorflow-intel==2.14.0->tensorflow==2.14.0) (1.62.0)\n",
      "Requirement already satisfied: tensorboard<2.15,>=2.14 in c:\\users\\mathi\\anaconda3\\envs\\tensorflow_new\\lib\\site-packages (from tensorflow-intel==2.14.0->tensorflow==2.14.0) (2.14.1)\n",
      "Requirement already satisfied: tensorflow-estimator<2.15,>=2.14.0 in c:\\users\\mathi\\anaconda3\\envs\\tensorflow_new\\lib\\site-packages (from tensorflow-intel==2.14.0->tensorflow==2.14.0) (2.14.0)\n",
      "Requirement already satisfied: keras<2.15,>=2.14.0 in c:\\users\\mathi\\anaconda3\\envs\\tensorflow_new\\lib\\site-packages (from tensorflow-intel==2.14.0->tensorflow==2.14.0) (2.14.0)\n",
      "Requirement already satisfied: wheel<1.0,>=0.23.0 in c:\\users\\mathi\\anaconda3\\envs\\tensorflow_new\\lib\\site-packages (from astunparse>=1.6.0->tensorflow-intel==2.14.0->tensorflow==2.14.0) (0.41.2)\n",
      "Requirement already satisfied: google-auth<3,>=1.6.3 in c:\\users\\mathi\\anaconda3\\envs\\tensorflow_new\\lib\\site-packages (from tensorboard<2.15,>=2.14->tensorflow-intel==2.14.0->tensorflow==2.14.0) (2.28.1)\n",
      "Requirement already satisfied: google-auth-oauthlib<1.1,>=0.5 in c:\\users\\mathi\\anaconda3\\envs\\tensorflow_new\\lib\\site-packages (from tensorboard<2.15,>=2.14->tensorflow-intel==2.14.0->tensorflow==2.14.0) (1.0.0)\n",
      "Requirement already satisfied: markdown>=2.6.8 in c:\\users\\mathi\\anaconda3\\envs\\tensorflow_new\\lib\\site-packages (from tensorboard<2.15,>=2.14->tensorflow-intel==2.14.0->tensorflow==2.14.0) (3.5.2)\n",
      "Requirement already satisfied: requests<3,>=2.21.0 in c:\\users\\mathi\\anaconda3\\envs\\tensorflow_new\\lib\\site-packages (from tensorboard<2.15,>=2.14->tensorflow-intel==2.14.0->tensorflow==2.14.0) (2.31.0)\n",
      "Requirement already satisfied: tensorboard-data-server<0.8.0,>=0.7.0 in c:\\users\\mathi\\anaconda3\\envs\\tensorflow_new\\lib\\site-packages (from tensorboard<2.15,>=2.14->tensorflow-intel==2.14.0->tensorflow==2.14.0) (0.7.2)\n",
      "Requirement already satisfied: werkzeug>=1.0.1 in c:\\users\\mathi\\anaconda3\\envs\\tensorflow_new\\lib\\site-packages (from tensorboard<2.15,>=2.14->tensorflow-intel==2.14.0->tensorflow==2.14.0) (3.0.1)\n",
      "Requirement already satisfied: cachetools<6.0,>=2.0.0 in c:\\users\\mathi\\anaconda3\\envs\\tensorflow_new\\lib\\site-packages (from google-auth<3,>=1.6.3->tensorboard<2.15,>=2.14->tensorflow-intel==2.14.0->tensorflow==2.14.0) (5.3.2)\n",
      "Requirement already satisfied: pyasn1-modules>=0.2.1 in c:\\users\\mathi\\anaconda3\\envs\\tensorflow_new\\lib\\site-packages (from google-auth<3,>=1.6.3->tensorboard<2.15,>=2.14->tensorflow-intel==2.14.0->tensorflow==2.14.0) (0.3.0)\n",
      "Requirement already satisfied: rsa<5,>=3.1.4 in c:\\users\\mathi\\anaconda3\\envs\\tensorflow_new\\lib\\site-packages (from google-auth<3,>=1.6.3->tensorboard<2.15,>=2.14->tensorflow-intel==2.14.0->tensorflow==2.14.0) (4.9)\n",
      "Requirement already satisfied: requests-oauthlib>=0.7.0 in c:\\users\\mathi\\anaconda3\\envs\\tensorflow_new\\lib\\site-packages (from google-auth-oauthlib<1.1,>=0.5->tensorboard<2.15,>=2.14->tensorflow-intel==2.14.0->tensorflow==2.14.0) (1.3.1)\n",
      "Requirement already satisfied: charset-normalizer<4,>=2 in c:\\users\\mathi\\anaconda3\\envs\\tensorflow_new\\lib\\site-packages (from requests<3,>=2.21.0->tensorboard<2.15,>=2.14->tensorflow-intel==2.14.0->tensorflow==2.14.0) (3.3.2)\n",
      "Requirement already satisfied: idna<4,>=2.5 in c:\\users\\mathi\\anaconda3\\envs\\tensorflow_new\\lib\\site-packages (from requests<3,>=2.21.0->tensorboard<2.15,>=2.14->tensorflow-intel==2.14.0->tensorflow==2.14.0) (3.6)\n",
      "Requirement already satisfied: urllib3<3,>=1.21.1 in c:\\users\\mathi\\anaconda3\\envs\\tensorflow_new\\lib\\site-packages (from requests<3,>=2.21.0->tensorboard<2.15,>=2.14->tensorflow-intel==2.14.0->tensorflow==2.14.0) (2.2.1)\n",
      "Requirement already satisfied: certifi>=2017.4.17 in c:\\users\\mathi\\anaconda3\\envs\\tensorflow_new\\lib\\site-packages (from requests<3,>=2.21.0->tensorboard<2.15,>=2.14->tensorflow-intel==2.14.0->tensorflow==2.14.0) (2024.2.2)\n",
      "Requirement already satisfied: MarkupSafe>=2.1.1 in c:\\users\\mathi\\anaconda3\\envs\\tensorflow_new\\lib\\site-packages (from werkzeug>=1.0.1->tensorboard<2.15,>=2.14->tensorflow-intel==2.14.0->tensorflow==2.14.0) (2.1.5)\n",
      "Requirement already satisfied: pyasn1<0.6.0,>=0.4.6 in c:\\users\\mathi\\anaconda3\\envs\\tensorflow_new\\lib\\site-packages (from pyasn1-modules>=0.2.1->google-auth<3,>=1.6.3->tensorboard<2.15,>=2.14->tensorflow-intel==2.14.0->tensorflow==2.14.0) (0.5.1)\n",
      "Requirement already satisfied: oauthlib>=3.0.0 in c:\\users\\mathi\\anaconda3\\envs\\tensorflow_new\\lib\\site-packages (from requests-oauthlib>=0.7.0->google-auth-oauthlib<1.1,>=0.5->tensorboard<2.15,>=2.14->tensorflow-intel==2.14.0->tensorflow==2.14.0) (3.2.2)\n"
     ]
    }
   ],
   "source": [
    "! pip install tensorflow==2.14.0"
   ]
  },
  {
   "cell_type": "code",
   "execution_count": 11,
   "metadata": {},
   "outputs": [],
   "source": [
    "import numpy as np\n",
    "import os\n",
    "import pandas as pd\n",
    "import tensorflow as tf\n",
    "\n",
    "from tensorflow.keras.layers import Dense, Conv2D, Flatten, Dropout, MaxPooling2D, BatchNormalization\n",
    "from tensorflow.keras.models import Sequential\n",
    "\n",
    "from Siamese_model import SiameseTrainer\n",
    "\n",
    "from tensorflow.keras.preprocessing.image import load_img, img_to_array"
   ]
  },
  {
   "cell_type": "code",
   "execution_count": 12,
   "metadata": {},
   "outputs": [],
   "source": [
    "def create_pairs(x, digit_indices, num_classes):\n",
    "    \"\"\"Creates a balanced dataset of pairs for Siamese networks.\"\"\"\n",
    "    pairs = []\n",
    "    labels = []\n",
    "\n",
    "    # n: smallest number of instances among all classes in the dataset\n",
    "    n = min([len(digit_indices[d]) for d in range(num_classes)]) - 1\n",
    "    \n",
    "    for d in range(num_classes):\n",
    "        for i in range(n):\n",
    "            z1, z2 = digit_indices[d][i], digit_indices[d][i + 1]\n",
    "            pairs += [[x[z1], x[z2]]]\n",
    "            inc = np.random.randint(1, num_classes)\n",
    "            dn = (d + inc) % num_classes\n",
    "            z1, z2 = digit_indices[d][i], digit_indices[dn][i]\n",
    "            pairs += [[x[z1], x[z2]]]\n",
    "            labels += [1, 0]\n",
    "    return np.array(pairs), np.array(labels)"
   ]
  },
  {
   "cell_type": "code",
   "execution_count": 13,
   "metadata": {},
   "outputs": [],
   "source": [
    "def train(self, x_train, y_train, x_val, y_val, batch_size=32, epochs=10):\n",
    "    # Create digit_indices for training and validation sets\n",
    "    digit_indices_train = [np.where(y_train == i)[0] for i in range(self.num_classes)]\n",
    "    digit_indices_val = [np.where(y_val == i)[0] for i in range(self.num_classes)]\n",
    "\n",
    "    # Create training pairs\n",
    "    tr_pairs, tr_y = create_pairs(x_train, digit_indices_train, self.num_classes)\n",
    "\n",
    "    # Create validation pairs\n",
    "    val_pairs, val_y = create_pairs(x_val, digit_indices_val, self.num_classes)\n",
    "\n",
    "    # Train the model\n",
    "    self.history = self.model.fit([tr_pairs[:, 0], tr_pairs[:, 1]], tr_y,\n",
    "                                  batch_size=batch_size,\n",
    "                                  epochs=epochs,\n",
    "                                  validation_data=([val_pairs[:, 0], val_pairs[:, 1]], val_y))\n"
   ]
  },
  {
   "cell_type": "code",
   "execution_count": 14,
   "metadata": {},
   "outputs": [],
   "source": [
    "def load_and_preprocess_image(path, target_size=(96, 96)):\n",
    "    img = load_img(path, target_size=target_size, color_mode='grayscale')\n",
    "    img = img_to_array(img)\n",
    "    img = np.expand_dims(img, axis=0)\n",
    "    img /= 255.0  # Normalize to [0,1]\n",
    "    return img\n",
    "\n",
    "# def load_pairs_and_labels(csv_path, image_base_path):\n",
    "#     df = pd.read_csv(csv_path)\n",
    "#     pairs = []\n",
    "#     labels = df['label'].values\n",
    "    \n",
    "#     for idx, row in df.iterrows():\n",
    "#         img1_path = os.path.join(image_base_path, row['image_1'])\n",
    "#         img2_path = os.path.join(image_base_path, row['image_2'])\n",
    "        \n",
    "#         img1 = load_and_preprocess_image(img1_path)\n",
    "#         img2 = load_and_preprocess_image(img2_path)\n",
    "        \n",
    "#         pairs.append([img1, img2])\n",
    "    \n",
    "#     pairs = np.array(pairs)\n",
    "#     # Reshape to fit the Siamese network input\n",
    "#     pairs = [pairs[:, 0].squeeze(), pairs[:, 1].squeeze()]\n",
    "    \n",
    "#     return pairs, labels\n",
    "\n",
    "def load_pairs_and_labels(csv_path, image_base_path):\n",
    "    df = pd.read_csv(csv_path)\n",
    "    pair_images = []\n",
    "    labels = df['label'].values\n",
    "    \n",
    "    for idx, row in df.iterrows():\n",
    "        img1_path = os.path.join(image_base_path, row['image_1'])\n",
    "        img2_path = os.path.join(image_base_path, row['image_2'])\n",
    "        \n",
    "        img1 = load_and_preprocess_image(img1_path)\n",
    "        img2 = load_and_preprocess_image(img2_path)\n",
    "        \n",
    "        pair_images.append(np.concatenate([img1, img2], axis=0))\n",
    "    \n",
    "    # Convert list of pairs to a numpy array\n",
    "    pairs = np.array(pair_images)\n",
    "    \n",
    "    # Since each image pair is concatenated along axis=0, we reshape to ensure\n",
    "    # the final structure is compatible with what train_model expects\n",
    "    pairs = pairs.reshape(-1, 2, *pairs.shape[2:])\n",
    "    \n",
    "    return pairs, labels\n"
   ]
  },
  {
   "cell_type": "code",
   "execution_count": 15,
   "metadata": {},
   "outputs": [],
   "source": [
    "# Create a CNNModel object\n",
    "def simple_cnn(input_shape, num_classes):\n",
    "    model = Sequential([\n",
    "        Conv2D(32, (3,3), activation='relu', input_shape=input_shape),\n",
    "        MaxPooling2D((2,2)),\n",
    "        Conv2D(64, (3,3), activation='relu'),\n",
    "        MaxPooling2D((2,2)),\n",
    "        Conv2D(128, (3,3), activation='relu'),\n",
    "        MaxPooling2D((2,2)),\n",
    "        Flatten(),\n",
    "        Dense(1024, activation='relu'),\n",
    "        Dense(128, activation='relu'),\n",
    "        Dense(num_classes, activation='softmax')\n",
    "    ])\n",
    "    return model"
   ]
  },
  {
   "cell_type": "code",
   "execution_count": 16,
   "metadata": {},
   "outputs": [],
   "source": [
    "input_shape = (96, 96, 1)\n",
    "num_classes = 3\n",
    "epochs = 10\n",
    "\n",
    "train_path = os.getcwd() + \"/Split_Siamese/train.csv\"\n",
    "validation_path = os.getcwd() + \"/Split_Siamese/validation.csv\"\n",
    "test_path = os.getcwd() + \"/Split_Siamese/test.csv\"\n",
    "\n",
    "image_dir = '../OpenSARShip/Categories/'"
   ]
  },
  {
   "cell_type": "code",
   "execution_count": 17,
   "metadata": {},
   "outputs": [],
   "source": [
    "model = simple_cnn(input_shape, num_classes)"
   ]
  },
  {
   "cell_type": "code",
   "execution_count": 18,
   "metadata": {},
   "outputs": [
    {
     "name": "stdout",
     "output_type": "stream",
     "text": [
      "Loading and preprocessing the data train\n",
      "Loading and preprocessing the data val\n",
      "Loading and preprocessing the data test\n"
     ]
    }
   ],
   "source": [
    "# Define paths\n",
    "image_base_path = '../OpenSARShip/Categories/'\n",
    "train_csv_path = os.getcwd() + \"/Split_Siamese/train_pairs.csv\"\n",
    "val_csv_path = os.getcwd() + \"/Split_Siamese/val_pairs.csv\"\n",
    "test_csv_path = os.getcwd() + \"/Split_Siamese/test_pairs.csv\"\n",
    "\n",
    "# Load and preprocess the data\n",
    "print(\"Loading and preprocessing the data train\")\n",
    "train_pairs, train_labels = load_pairs_and_labels(train_csv_path, image_base_path)\n",
    "print(\"Loading and preprocessing the data val\")\n",
    "val_pairs, val_labels = load_pairs_and_labels(val_csv_path, image_base_path)\n",
    "print(\"Loading and preprocessing the data test\")\n",
    "test_pairs, test_labels = load_pairs_and_labels(test_csv_path, image_base_path)\n",
    "\n"
   ]
  },
  {
   "cell_type": "code",
   "execution_count": 19,
   "metadata": {},
   "outputs": [],
   "source": [
    "# print(type(train_pairs), type(train_labels))\n",
    "# print(train_pairs.shape, train_labels.shape)"
   ]
  },
  {
   "cell_type": "code",
   "execution_count": 21,
   "metadata": {},
   "outputs": [
    {
     "name": "stdout",
     "output_type": "stream",
     "text": [
      "Creating the SiameseTrainer\n",
      "Compiling the model\n",
      "Training the model\n",
      "Epoch 1/30\n",
      "1544/1544 [==============================] - ETA: 0s - loss: 0.6727 - accuracy: 0.6053\n",
      "Epoch 1: val_accuracy improved from -inf to 0.54891, saving model to Siam_batch128.pth\n",
      "INFO:tensorflow:Assets written to: Siam_batch128.pth\\assets\n"
     ]
    },
    {
     "name": "stderr",
     "output_type": "stream",
     "text": [
      "INFO:tensorflow:Assets written to: Siam_batch128.pth\\assets\n"
     ]
    },
    {
     "name": "stdout",
     "output_type": "stream",
     "text": [
      "1544/1544 [==============================] - 1256s 812ms/step - loss: 0.6727 - accuracy: 0.6053 - val_loss: 0.6900 - val_accuracy: 0.5489\n",
      "Epoch 2/30\n",
      "1544/1544 [==============================] - ETA: 0s - loss: 0.6625 - accuracy: 0.6321\n",
      "Epoch 2: val_accuracy improved from 0.54891 to 0.55541, saving model to Siam_batch128.pth\n",
      "INFO:tensorflow:Assets written to: Siam_batch128.pth\\assets\n"
     ]
    },
    {
     "name": "stderr",
     "output_type": "stream",
     "text": [
      "INFO:tensorflow:Assets written to: Siam_batch128.pth\\assets\n"
     ]
    },
    {
     "name": "stdout",
     "output_type": "stream",
     "text": [
      "1544/1544 [==============================] - 1234s 799ms/step - loss: 0.6625 - accuracy: 0.6321 - val_loss: 0.6898 - val_accuracy: 0.5554\n",
      "Epoch 3/30\n",
      "1544/1544 [==============================] - ETA: 0s - loss: 0.6617 - accuracy: 0.6226\n",
      "Epoch 3: val_accuracy improved from 0.55541 to 0.55568, saving model to Siam_batch128.pth\n",
      "INFO:tensorflow:Assets written to: Siam_batch128.pth\\assets\n"
     ]
    },
    {
     "name": "stderr",
     "output_type": "stream",
     "text": [
      "INFO:tensorflow:Assets written to: Siam_batch128.pth\\assets\n"
     ]
    },
    {
     "name": "stdout",
     "output_type": "stream",
     "text": [
      "1544/1544 [==============================] - 1215s 787ms/step - loss: 0.6617 - accuracy: 0.6226 - val_loss: 0.6918 - val_accuracy: 0.5557\n",
      "Epoch 4/30\n",
      "1544/1544 [==============================] - ETA: 0s - loss: 0.6611 - accuracy: 0.6132\n",
      "Epoch 4: val_accuracy did not improve from 0.55568\n",
      "1544/1544 [==============================] - 1212s 785ms/step - loss: 0.6611 - accuracy: 0.6132 - val_loss: 0.6936 - val_accuracy: 0.5523\n",
      "Epoch 5/30\n",
      "1544/1544 [==============================] - ETA: 0s - loss: 0.6608 - accuracy: 0.6071\n",
      "Epoch 5: val_accuracy did not improve from 0.55568\n",
      "1544/1544 [==============================] - 1213s 786ms/step - loss: 0.6608 - accuracy: 0.6071 - val_loss: 0.6948 - val_accuracy: 0.5494\n",
      "Epoch 6/30\n",
      "1544/1544 [==============================] - ETA: 0s - loss: 0.6605 - accuracy: 0.6090\n",
      "Epoch 6: val_accuracy did not improve from 0.55568\n",
      "1544/1544 [==============================] - 1213s 786ms/step - loss: 0.6605 - accuracy: 0.6090 - val_loss: 0.6955 - val_accuracy: 0.5536\n",
      "Epoch 7/30\n",
      "1544/1544 [==============================] - ETA: 0s - loss: 0.6604 - accuracy: 0.6133\n",
      "Epoch 7: val_accuracy did not improve from 0.55568\n",
      "1544/1544 [==============================] - 1213s 786ms/step - loss: 0.6604 - accuracy: 0.6133 - val_loss: 0.6975 - val_accuracy: 0.5431\n",
      "Epoch 8/30\n",
      "1544/1544 [==============================] - ETA: 0s - loss: 0.6602 - accuracy: 0.6148\n",
      "Epoch 8: val_accuracy did not improve from 0.55568\n",
      "1544/1544 [==============================] - 1212s 785ms/step - loss: 0.6602 - accuracy: 0.6148 - val_loss: 0.6917 - val_accuracy: 0.5507\n",
      "Epoch 9/30\n",
      "1544/1544 [==============================] - ETA: 0s - loss: 0.6601 - accuracy: 0.6217\n",
      "Epoch 9: val_accuracy did not improve from 0.55568\n",
      "1544/1544 [==============================] - 1212s 785ms/step - loss: 0.6601 - accuracy: 0.6217 - val_loss: 0.6915 - val_accuracy: 0.5511\n",
      "Epoch 10/30\n",
      "1544/1544 [==============================] - ETA: 0s - loss: 0.6601 - accuracy: 0.6216\n",
      "Epoch 10: val_accuracy did not improve from 0.55568\n",
      "1544/1544 [==============================] - 1211s 785ms/step - loss: 0.6601 - accuracy: 0.6216 - val_loss: 0.6923 - val_accuracy: 0.5528\n",
      "Epoch 11/30\n",
      "1544/1544 [==============================] - ETA: 0s - loss: 0.6598 - accuracy: 0.6266\n",
      "Epoch 11: val_accuracy did not improve from 0.55568\n",
      "1544/1544 [==============================] - 1206s 781ms/step - loss: 0.6598 - accuracy: 0.6266 - val_loss: 0.6904 - val_accuracy: 0.5529\n",
      "Epoch 12/30\n",
      "1544/1544 [==============================] - ETA: 0s - loss: 0.6600 - accuracy: 0.6210\n",
      "Epoch 12: val_accuracy did not improve from 0.55568\n",
      "1544/1544 [==============================] - 1208s 782ms/step - loss: 0.6600 - accuracy: 0.6210 - val_loss: 0.6922 - val_accuracy: 0.5505\n",
      "Epoch 13/30\n",
      "1544/1544 [==============================] - ETA: 0s - loss: 0.6598 - accuracy: 0.6292\n",
      "Epoch 13: val_accuracy improved from 0.55568 to 0.55680, saving model to Siam_batch128.pth\n",
      "INFO:tensorflow:Assets written to: Siam_batch128.pth\\assets\n"
     ]
    },
    {
     "name": "stderr",
     "output_type": "stream",
     "text": [
      "INFO:tensorflow:Assets written to: Siam_batch128.pth\\assets\n"
     ]
    },
    {
     "name": "stdout",
     "output_type": "stream",
     "text": [
      "1544/1544 [==============================] - 1205s 781ms/step - loss: 0.6598 - accuracy: 0.6292 - val_loss: 0.6886 - val_accuracy: 0.5568\n",
      "Epoch 14/30\n",
      "1544/1544 [==============================] - ETA: 0s - loss: 0.6596 - accuracy: 0.6279\n",
      "Epoch 14: val_accuracy did not improve from 0.55680\n",
      "1544/1544 [==============================] - 1202s 778ms/step - loss: 0.6596 - accuracy: 0.6279 - val_loss: 0.6927 - val_accuracy: 0.5522\n",
      "Epoch 15/30\n",
      "1544/1544 [==============================] - ETA: 0s - loss: 0.6596 - accuracy: 0.6304\n",
      "Epoch 15: val_accuracy improved from 0.55680 to 0.55893, saving model to Siam_batch128.pth\n",
      "INFO:tensorflow:Assets written to: Siam_batch128.pth\\assets\n"
     ]
    },
    {
     "name": "stderr",
     "output_type": "stream",
     "text": [
      "INFO:tensorflow:Assets written to: Siam_batch128.pth\\assets\n"
     ]
    },
    {
     "name": "stdout",
     "output_type": "stream",
     "text": [
      "1544/1544 [==============================] - 1205s 780ms/step - loss: 0.6596 - accuracy: 0.6304 - val_loss: 0.6883 - val_accuracy: 0.5589\n",
      "Epoch 16/30\n",
      "1544/1544 [==============================] - ETA: 0s - loss: 0.6595 - accuracy: 0.6314\n",
      "Epoch 16: val_accuracy did not improve from 0.55893\n",
      "1544/1544 [==============================] - 1194s 773ms/step - loss: 0.6595 - accuracy: 0.6314 - val_loss: 0.6915 - val_accuracy: 0.5572\n",
      "Epoch 17/30\n",
      "1544/1544 [==============================] - ETA: 0s - loss: 0.6595 - accuracy: 0.6309\n",
      "Epoch 17: val_accuracy did not improve from 0.55893\n",
      "1544/1544 [==============================] - 1198s 776ms/step - loss: 0.6595 - accuracy: 0.6309 - val_loss: 0.6905 - val_accuracy: 0.5563\n",
      "Epoch 18/30\n",
      "1544/1544 [==============================] - ETA: 0s - loss: 0.6594 - accuracy: 0.6353\n",
      "Epoch 18: val_accuracy did not improve from 0.55893\n",
      "1544/1544 [==============================] - 1203s 779ms/step - loss: 0.6594 - accuracy: 0.6353 - val_loss: 0.6952 - val_accuracy: 0.5568\n",
      "Epoch 19/30\n",
      "1544/1544 [==============================] - ETA: 0s - loss: 0.6593 - accuracy: 0.6333\n",
      "Epoch 19: val_accuracy did not improve from 0.55893\n",
      "1544/1544 [==============================] - 1193s 773ms/step - loss: 0.6593 - accuracy: 0.6333 - val_loss: 0.6942 - val_accuracy: 0.5508\n",
      "Epoch 20/30\n",
      "1544/1544 [==============================] - ETA: 0s - loss: 0.6593 - accuracy: 0.6334\n",
      "Epoch 20: val_accuracy did not improve from 0.55893\n",
      "1544/1544 [==============================] - 1192s 772ms/step - loss: 0.6593 - accuracy: 0.6334 - val_loss: 0.6903 - val_accuracy: 0.5574\n",
      "Epoch 21/30\n",
      "1544/1544 [==============================] - ETA: 0s - loss: 0.6593 - accuracy: 0.6357\n",
      "Epoch 21: val_accuracy did not improve from 0.55893\n",
      "1544/1544 [==============================] - 1194s 773ms/step - loss: 0.6593 - accuracy: 0.6357 - val_loss: 0.6940 - val_accuracy: 0.5557\n",
      "Epoch 22/30\n",
      "1544/1544 [==============================] - ETA: 0s - loss: 0.6594 - accuracy: 0.6320\n",
      "Epoch 22: val_accuracy did not improve from 0.55893\n",
      "1544/1544 [==============================] - 1193s 773ms/step - loss: 0.6594 - accuracy: 0.6320 - val_loss: 0.6952 - val_accuracy: 0.5517\n",
      "Epoch 23/30\n",
      "1544/1544 [==============================] - ETA: 0s - loss: 0.6592 - accuracy: 0.6359\n",
      "Epoch 23: val_accuracy did not improve from 0.55893\n",
      "1544/1544 [==============================] - 1196s 775ms/step - loss: 0.6592 - accuracy: 0.6359 - val_loss: 0.6899 - val_accuracy: 0.5575\n",
      "Epoch 24/30\n",
      "1544/1544 [==============================] - ETA: 0s - loss: 0.6593 - accuracy: 0.6369\n",
      "Epoch 24: val_accuracy improved from 0.55893 to 0.56105, saving model to Siam_batch128.pth\n",
      "INFO:tensorflow:Assets written to: Siam_batch128.pth\\assets\n"
     ]
    },
    {
     "name": "stderr",
     "output_type": "stream",
     "text": [
      "INFO:tensorflow:Assets written to: Siam_batch128.pth\\assets\n"
     ]
    },
    {
     "name": "stdout",
     "output_type": "stream",
     "text": [
      "1544/1544 [==============================] - 1192s 772ms/step - loss: 0.6593 - accuracy: 0.6369 - val_loss: 0.6866 - val_accuracy: 0.5610\n",
      "Epoch 25/30\n",
      "1544/1544 [==============================] - ETA: 0s - loss: 0.6591 - accuracy: 0.6351\n",
      "Epoch 25: val_accuracy improved from 0.56105 to 0.56218, saving model to Siam_batch128.pth\n",
      "INFO:tensorflow:Assets written to: Siam_batch128.pth\\assets\n"
     ]
    },
    {
     "name": "stderr",
     "output_type": "stream",
     "text": [
      "INFO:tensorflow:Assets written to: Siam_batch128.pth\\assets\n"
     ]
    },
    {
     "name": "stdout",
     "output_type": "stream",
     "text": [
      "1544/1544 [==============================] - 1198s 776ms/step - loss: 0.6591 - accuracy: 0.6351 - val_loss: 0.6867 - val_accuracy: 0.5622\n",
      "Epoch 26/30\n",
      "1544/1544 [==============================] - ETA: 0s - loss: 0.6592 - accuracy: 0.6380\n",
      "Epoch 26: val_accuracy did not improve from 0.56218\n",
      "1544/1544 [==============================] - 1194s 773ms/step - loss: 0.6592 - accuracy: 0.6380 - val_loss: 0.6875 - val_accuracy: 0.5595\n",
      "Epoch 27/30\n",
      "1544/1544 [==============================] - ETA: 0s - loss: 0.6592 - accuracy: 0.6322\n",
      "Epoch 27: val_accuracy did not improve from 0.56218\n",
      "1544/1544 [==============================] - 1193s 773ms/step - loss: 0.6592 - accuracy: 0.6322 - val_loss: 0.6913 - val_accuracy: 0.5559\n",
      "Epoch 28/30\n",
      "1544/1544 [==============================] - ETA: 0s - loss: 0.6592 - accuracy: 0.6349\n",
      "Epoch 28: val_accuracy did not improve from 0.56218\n",
      "1544/1544 [==============================] - 1194s 773ms/step - loss: 0.6592 - accuracy: 0.6349 - val_loss: 0.6977 - val_accuracy: 0.5479\n",
      "Epoch 29/30\n",
      "1544/1544 [==============================] - ETA: 0s - loss: 0.6589 - accuracy: 0.6384\n",
      "Epoch 29: val_accuracy did not improve from 0.56218\n",
      "1544/1544 [==============================] - 1195s 774ms/step - loss: 0.6589 - accuracy: 0.6384 - val_loss: 0.6940 - val_accuracy: 0.5540\n",
      "Epoch 30/30\n",
      "1544/1544 [==============================] - ETA: 0s - loss: 0.6589 - accuracy: 0.6372\n",
      "Epoch 30: val_accuracy did not improve from 0.56218\n",
      "1544/1544 [==============================] - 1193s 772ms/step - loss: 0.6589 - accuracy: 0.6372 - val_loss: 0.6954 - val_accuracy: 0.5528\n",
      "INFO:tensorflow:Assets written to: Siam_batch128.pth\\assets\n"
     ]
    },
    {
     "name": "stderr",
     "output_type": "stream",
     "text": [
      "INFO:tensorflow:Assets written to: Siam_batch128.pth\\assets\n"
     ]
    },
    {
     "name": "stdout",
     "output_type": "stream",
     "text": [
      "New best model with validation accuracy 0.552832305431366 saved as Siam_batch128.pth\n",
      "Plotting the training history\n"
     ]
    },
    {
     "data": {
      "image/png": "[encoded data removed]",
      "text/plain": [
       "<Figure size 1200x400 with 2 Axes>"
      ]
     },
     "metadata": {},
     "output_type": "display_data"
    },
    {
     "name": "stdout",
     "output_type": "stream",
     "text": [
      "Evaluating the model\n",
      "686/686 [==============================] - 36s 52ms/step - loss: 0.6931 - accuracy: 0.5644\n",
      "Test accuracy:  0.5644110441207886\n"
     ]
    }
   ],
   "source": [
    "# Assuming `simple_cnn` and `SiameseTrainer` are defined as before\n",
    "print(\"Creating the SiameseTrainer\")\n",
    "siamese_network = SiameseTrainer(base_model_func=simple_cnn, input_shape=(96, 96, 1), num_classes=num_classes)\n",
    "\n",
    "# Compile the model\n",
    "print(\"Compiling the model\")\n",
    "siamese_network.compile_model(optimizer='adam', loss='binary_crossentropy')\n",
    "\n",
    "# Train the model\n",
    "print(\"Training the model\")\n",
    "# siamese_network.train_model(train_pairs, train_labels, val_pairs, val_labels, epochs=10, batch_size=32)\n",
    "siamese_network.train_model(train_pairs, train_labels, val_pairs, val_labels, epochs=30, batch_size=128, model_save_name='Siam_batch128.pth')\n",
    "\n",
    "\n",
    "# Plot training history\n",
    "print(\"Plotting the training history\")\n",
    "siamese_network.plot_training()\n",
    "\n",
    "# Evaluate the model\n",
    "print(\"Evaluating the model\")\n",
    "siamese_network.evaluate_model(test_pairs, test_labels)\n"
   ]
  },
  {
   "cell_type": "code",
   "execution_count": null,
   "metadata": {},
   "outputs": [],
   "source": [
    "# # Assuming you have defined `simple_cnn` as before and have loaded your dataset\n",
    "# siamese_network = SiameseTrainer(base_model_func=simple_cnn, input_shape=input_shape, num_classes=num_classes)\n",
    "\n",
    "# # Compile the model with the desired optimizer, loss, and metrics\n",
    "# siamese_network.compile_model(optimizer='adam', loss='binary_crossentropy')\n",
    "\n",
    "# # Train the model\n",
    "# siamese_network.train(x_train, y_train, x_val, y_val, batch_size=32, epochs=10)\n",
    "\n",
    "# # Plot training history\n",
    "# siamese_network.plot_training_history()\n",
    "\n",
    "# # Optionally, evaluate the model on a test set prepared in a similar way\n",
    "# # siamese_network.evaluate_model(x_test, y_test)\n"
   ]
  }
 ],
 "metadata": {
  "kernelspec": {
   "display_name": "tensorflow_new",
   "language": "python",
   "name": "python3"
  },
  "language_info": {
   "codemirror_mode": {
    "name": "ipython",
    "version": 3
   },
   "file_extension": ".py",
   "mimetype": "text/x-python",
   "name": "python",
   "nbconvert_exporter": "python",
   "pygments_lexer": "ipython3",
   "version": "3.10.13"
  }
 },
 "nbformat": 4,
 "nbformat_minor": 2
}

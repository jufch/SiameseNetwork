{
 "cells": [
  {
   "cell_type": "markdown",
   "metadata": {},
   "source": [
    "# Training of Siamese Networks"
   ]
  },
  {
   "cell_type": "code",
   "execution_count": null,
   "metadata": {},
   "outputs": [],
   "source": [
    "import numpy as np\n",
    "import os\n",
    "\n",
    "from tensorflow.keras.layers import Dense, Conv2D, Flatten, Dropout, MaxPooling2D, BatchNormalization\n",
    "from tensorflow.keras.models import Sequential\n",
    "\n",
    "from Siamese_model import SiameseTrainer"
   ]
  },
  {
   "cell_type": "code",
   "execution_count": null,
   "metadata": {},
   "outputs": [],
   "source": [
    "def create_pairs(x, digit_indices, num_classes):\n",
    "    \"\"\"Creates a balanced dataset of pairs for Siamese networks.\"\"\"\n",
    "    pairs = []\n",
    "    labels = []\n",
    "\n",
    "    # n: smallest number of instances among all classes in the dataset\n",
    "    n = min([len(digit_indices[d]) for d in range(num_classes)]) - 1\n",
    "    \n",
    "    for d in range(num_classes):\n",
    "        for i in range(n):\n",
    "            z1, z2 = digit_indices[d][i], digit_indices[d][i + 1]\n",
    "            pairs += [[x[z1], x[z2]]]\n",
    "            inc = np.random.randint(1, num_classes)\n",
    "            dn = (d + inc) % num_classes\n",
    "            z1, z2 = digit_indices[d][i], digit_indices[dn][i]\n",
    "            pairs += [[x[z1], x[z2]]]\n",
    "            labels += [1, 0]\n",
    "    return np.array(pairs), np.array(labels)"
   ]
  },
  {
   "cell_type": "code",
   "execution_count": null,
   "metadata": {},
   "outputs": [],
   "source": [
    "def train(self, x_train, y_train, x_val, y_val, batch_size=32, epochs=10):\n",
    "    # Create digit_indices for training and validation sets\n",
    "    digit_indices_train = [np.where(y_train == i)[0] for i in range(self.num_classes)]\n",
    "    digit_indices_val = [np.where(y_val == i)[0] for i in range(self.num_classes)]\n",
    "\n",
    "    # Create training pairs\n",
    "    tr_pairs, tr_y = create_pairs(x_train, digit_indices_train, self.num_classes)\n",
    "\n",
    "    # Create validation pairs\n",
    "    val_pairs, val_y = create_pairs(x_val, digit_indices_val, self.num_classes)\n",
    "\n",
    "    # Train the model\n",
    "    self.history = self.model.fit([tr_pairs[:, 0], tr_pairs[:, 1]], tr_y,\n",
    "                                  batch_size=batch_size,\n",
    "                                  epochs=epochs,\n",
    "                                  validation_data=([val_pairs[:, 0], val_pairs[:, 1]], val_y))\n"
   ]
  },
  {
   "cell_type": "code",
   "execution_count": null,
   "metadata": {},
   "outputs": [],
   "source": [
    "# Create a CNNModel object\n",
    "def simple_cnn(input_shape, num_classes):\n",
    "    model = Sequential([\n",
    "        Conv2D(32, (3,3), activation='relu', input_shape=input_shape),\n",
    "        MaxPooling2D((2,2)),\n",
    "        Conv2D(64, (3,3), activation='relu'),\n",
    "        MaxPooling2D((2,2)),\n",
    "        Conv2D(128, (3,3), activation='relu'),\n",
    "        MaxPooling2D((2,2)),\n",
    "        Flatten(),\n",
    "        Dense(1024, activation='relu'),\n",
    "        Dense(128, activation='relu'),\n",
    "        Dense(num_classes, activation='softmax')\n",
    "    ])\n",
    "    return model"
   ]
  },
  {
   "cell_type": "code",
   "execution_count": null,
   "metadata": {},
   "outputs": [],
   "source": [
    "input_shape = (96, 96, 1)\n",
    "num_classes = 3\n",
    "epochs = 10\n",
    "\n",
    "train_path = os.getcwd() + \"/Split_Tanker_Bulk_Container_frugal_vv/train.csv\"\n",
    "validation_path = os.getcwd() + \"/Split_Tanker_Bulk_Container_frugal_vv/validation.csv\"\n",
    "test_path = os.getcwd() + \"/Split_Tanker_Bulk_Container_frugal_vv/test.csv\"\n",
    "\n",
    "image_dir = '../OpenSARShip/Categories/'"
   ]
  },
  {
   "cell_type": "code",
   "execution_count": null,
   "metadata": {},
   "outputs": [],
   "source": [
    "model = simple_cnn(input_shape, num_classes)"
   ]
  },
  {
   "cell_type": "code",
   "execution_count": null,
   "metadata": {},
   "outputs": [],
   "source": [
    "# Assuming you have defined `simple_cnn` as before and have loaded your dataset\n",
    "siamese_network = SiameseTrainer(base_model_func=simple_cnn, input_shape=input_shape, num_classes=num_classes)\n",
    "\n",
    "# Compile the model with the desired optimizer, loss, and metrics\n",
    "siamese_network.compile_model(optimizer='adam', loss='binary_crossentropy')\n",
    "\n",
    "# Train the model\n",
    "siamese_network.train(x_train, y_train, x_val, y_val, batch_size=32, epochs=10)\n",
    "\n",
    "# Plot training history\n",
    "siamese_network.plot_training_history()\n",
    "\n",
    "# Optionally, evaluate the model on a test set prepared in a similar way\n",
    "# siamese_network.evaluate_model(x_test, y_test)\n"
   ]
  }
 ],
 "metadata": {
  "kernelspec": {
   "display_name": "tensorflow_new",
   "language": "python",
   "name": "python3"
  },
  "language_info": {
   "name": "python",
   "version": "3.10.13"
  }
 },
 "nbformat": 4,
 "nbformat_minor": 2
}

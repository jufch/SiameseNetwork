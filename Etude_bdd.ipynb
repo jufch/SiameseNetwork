{
 "cells": [
  {
   "cell_type": "markdown",
   "metadata": {},
   "source": [
    "# Etude de la base de données OpenSARShip"
   ]
  },
  {
   "cell_type": "markdown",
   "metadata": {},
   "source": [
    "Dans ce Notebook, il s'agira d'étudier la base de données OpenSARShip, allant de l'extraction des données à l'analyse de celles-ci. On comptera notamment le nombre de bateaux, le nombre de bateaux par type, lessous-types également. "
   ]
  },
  {
   "cell_type": "markdown",
   "metadata": {},
   "source": [
    "## Importation des différentes bibliothèques"
   ]
  },
  {
   "cell_type": "code",
   "execution_count": 15,
   "metadata": {},
   "outputs": [],
   "source": [
    "import numpy as np\n",
    "import pandas as pd\n",
    "import matplotlib.pyplot as plt\n",
    "import seaborn as sns\n",
    "import os\n",
    "import tensorflow as tf\n",
    "from PIL import Image\n"
   ]
  },
  {
   "cell_type": "markdown",
   "metadata": {},
   "source": [
    "### Lecture d'une image"
   ]
  },
  {
   "cell_type": "code",
   "execution_count": 9,
   "metadata": {},
   "outputs": [],
   "source": [
    "chemin_image = os.path.join(os.path.dirname(os.getcwd()), 'OpenSARShip', 'S1A_IW_GRDH_1SDV_20150823T221233_20150823T221258_007396_00A2CA_54D0', 'Patch_Uint8', 'Visual_Cargo_x1601_y7784_vh.tif')"
   ]
  },
  {
   "cell_type": "code",
   "execution_count": 16,
   "metadata": {},
   "outputs": [
    {
     "name": "stdout",
     "output_type": "stream",
     "text": [
      "Dimensions de l'image : 65x65\n"
     ]
    }
   ],
   "source": [
    "# Affichage de l'image\n",
    "image = Image.open(chemin_image)\n",
    "largeur, hauteur = image.size\n",
    "print(f\"Dimensions de l'image : {largeur}x{hauteur}\")\n",
    "image.show()"
   ]
  }
 ],
 "metadata": {
  "kernelspec": {
   "display_name": "tensorflow_new",
   "language": "python",
   "name": "python3"
  },
  "language_info": {
   "codemirror_mode": {
    "name": "ipython",
    "version": 3
   },
   "file_extension": ".py",
   "mimetype": "text/x-python",
   "name": "python",
   "nbconvert_exporter": "python",
   "pygments_lexer": "ipython3",
   "version": "3.10.13"
  }
 },
 "nbformat": 4,
 "nbformat_minor": 2
}

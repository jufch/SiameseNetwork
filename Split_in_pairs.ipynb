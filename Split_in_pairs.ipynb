{
 "cells": [
  {
   "cell_type": "markdown",
   "metadata": {},
   "source": [
    "# Splitting the data into pairs of images"
   ]
  },
  {
   "cell_type": "markdown",
   "metadata": {},
   "source": [
    "For Siamese Networks, it is necessary to build pairs of images for the input (to give to the model). In this Notebbok, we will split the dataset in 3 files like it has been done for the training of the CNN models."
   ]
  },
  {
   "cell_type": "code",
   "execution_count": 23,
   "metadata": {},
   "outputs": [],
   "source": [
    "import pandas as pd\n",
    "import os\n",
    "import numpy as np\n",
    "from itertools import combinations, product"
   ]
  },
  {
   "cell_type": "code",
   "execution_count": 8,
   "metadata": {},
   "outputs": [],
   "source": [
    "train_df = pd.read_csv(os.getcwd() + \"/Split_Tanker_Bulk_Container_frugal_vv/train.csv\")\n",
    "val_df = pd.read_csv(os.getcwd() + \"/Split_Tanker_Bulk_Container_frugal_vv/validation.csv\")\n",
    "test_df = pd.read_csv(os.getcwd() + \"/Split_Tanker_Bulk_Container_frugal_vv/test.csv\")\n",
    "\n",
    "image_path = '../OpenSARShip/Categories/'"
   ]
  },
  {
   "cell_type": "markdown",
   "metadata": {},
   "source": [
    "## Generate pairs of images"
   ]
  },
  {
   "cell_type": "code",
   "execution_count": 27,
   "metadata": {},
   "outputs": [],
   "source": [
    "def generate_all_pairs(dataframe):\n",
    "    pairs = []\n",
    "    labels = []\n",
    "    categories = dataframe['file_path'].apply(lambda x: x.split('\\\\')[0]).unique()\n",
    "    \n",
    "    # Generate all unique combinations within the same class for similar pairs\n",
    "    for category in categories:\n",
    "        same_class_images = dataframe[dataframe['file_path'].str.contains(category, regex=False)]['file_path'].tolist()\n",
    "        for pair in combinations(same_class_images, 2):\n",
    "            pairs.append(pair)\n",
    "            labels.append(1)  # Similar pair\n",
    "    \n",
    "    # Generate all unique combinations across different classes for dissimilar pairs\n",
    "    for cat1, cat2 in combinations(categories, 2):\n",
    "        cat1_images = dataframe[dataframe['file_path'].str.contains(cat1, regex=False)]['file_path'].tolist()\n",
    "        cat2_images = dataframe[dataframe['file_path'].str.contains(cat2, regex=False)]['file_path'].tolist()\n",
    "        \n",
    "        for pair in product(cat1_images, cat2_images):\n",
    "            pairs.append(pair)\n",
    "            labels.append(0)  # Dissimilar pair\n",
    "    \n",
    "    return np.array(pairs), np.array(labels)"
   ]
  },
  {
   "cell_type": "code",
   "execution_count": 28,
   "metadata": {},
   "outputs": [],
   "source": [
    "def save_pairs_to_csv(pairs, labels, csv_path):\n",
    "    df = pd.DataFrame({'image_1': pairs[:, 0], 'image_2': pairs[:, 1], 'label': labels})\n",
    "    # Shuffle the DataFrame\n",
    "    shuffled_df = df.sample(frac=1).reset_index(drop=True)\n",
    "    # Save the shuffled DataFrame to a CSV file\n",
    "    shuffled_df.to_csv(csv_path, index=False)\n"
   ]
  },
  {
   "cell_type": "code",
   "execution_count": 5,
   "metadata": {},
   "outputs": [],
   "source": [
    "def load_pairs_from_csv(csv_path):\n",
    "    df = pd.read_csv(csv_path)\n",
    "    pairs = df[['image_1', 'image_2']].values\n",
    "    labels = df['label'].values\n",
    "    return pairs, labels"
   ]
  },
  {
   "cell_type": "code",
   "execution_count": 9,
   "metadata": {},
   "outputs": [
    {
     "name": "stdout",
     "output_type": "stream",
     "text": [
      "                                           file_path\n",
      "0  Bulk Carrier\\BulkCarrier_Visual_Cargo_x1902_y8...\n",
      "1  Bulk Carrier\\BulkCarrier_Visual_Cargo_x5067_y1...\n",
      "2  Bulk Carrier\\BulkCarrier_Visual_Cargo_x2412_y9...\n",
      "3  Bulk Carrier\\BulkCarrier_Visual_Cargo_x2084_y6...\n",
      "4  Container Ship\\ContainerShip_Visual_Cargo_x114...\n"
     ]
    }
   ],
   "source": [
    "print(train_df.head())\n"
   ]
  },
  {
   "cell_type": "code",
   "execution_count": 29,
   "metadata": {},
   "outputs": [],
   "source": [
    "train_pairs, train_labels = generate_all_pairs(train_df)\n",
    "val_pairs, val_labels = generate_all_pairs(val_df)\n",
    "test_pairs, test_labels = generate_all_pairs(test_df)"
   ]
  },
  {
   "cell_type": "code",
   "execution_count": 30,
   "metadata": {},
   "outputs": [],
   "source": [
    "save_pairs_to_csv(train_pairs, train_labels, 'train_pairs.csv')\n",
    "save_pairs_to_csv(val_pairs, val_labels, 'val_pairs.csv')\n",
    "save_pairs_to_csv(test_pairs, test_labels, 'test_pairs.csv')"
   ]
  }
 ],
 "metadata": {
  "kernelspec": {
   "display_name": "tensorflow_new",
   "language": "python",
   "name": "python3"
  },
  "language_info": {
   "codemirror_mode": {
    "name": "ipython",
    "version": 3
   },
   "file_extension": ".py",
   "mimetype": "text/x-python",
   "name": "python",
   "nbconvert_exporter": "python",
   "pygments_lexer": "ipython3",
   "version": "3.10.13"
  }
 },
 "nbformat": 4,
 "nbformat_minor": 2
}

{
 "cells": [
  {
   "cell_type": "markdown",
   "metadata": {},
   "source": [
    "# Extraction données utiles dans le fichier xml"
   ]
  },
  {
   "cell_type": "code",
   "execution_count": 1,
   "metadata": {},
   "outputs": [],
   "source": [
    "import os\n",
    "import xml.etree.ElementTree as ET"
   ]
  },
  {
   "cell_type": "code",
   "execution_count": 2,
   "metadata": {},
   "outputs": [
    {
     "name": "stdout",
     "output_type": "stream",
     "text": [
      "['S1A_IW_GRDH_1SDV_20150823T221233_20150823T221258_007396_00A2CA_54D0', 'S1A_IW_GRDH_1SDV_20150916T221233_20150916T221258_007746_00AC44_BA63', 'S1A_IW_GRDH_1SDV_20150928T221239_20150928T221304_007921_00B100_32A3', 'S1A_IW_GRDH_1SDV_20151010T221234_20151010T221259_008096_00B5A1_5C25', 'S1A_IW_GRDH_1SDV_20160102T221226_20160102T221251_009321_00D788_F5BA', 'S1A_IW_GRDH_1SDV_20160114T221226_20160114T221251_009496_00DC88_46B2', 'S1A_IW_GRDH_1SDV_20160126T221225_20160126T221250_009671_00E1AF_228F', 'S1A_IW_GRDH_1SDV_20160219T221225_20160219T221250_010021_00EBE1_C9D5', 'S1A_IW_GRDH_1SDV_20160302T221225_20160302T221250_010196_00F0D2_D0C8', 'S1A_IW_GRDH_1SDV_20160326T221226_20160326T221251_010546_00FAC9_4D44', 'S1A_IW_GRDH_1SDV_20160328T095421_20160328T095446_010568_00FB64_215C', 'S1A_IW_GRDH_1SDV_20160405T102459_20160405T102528_010685_00FED5_97D5', 'S1A_IW_GRDH_1SDV_20160407T221226_20160407T221251_010721_00FFEA_ADBD', 'S1A_IW_GRDH_1SDV_20160419T221227_20160419T221252_010896_01052F_69E2', 'S1A_IW_GRDH_1SDV_20160513T221231_20160513T221256_011246_011040_617A', 'S1A_IW_GRDH_1SDV_20160523T102501_20160523T102530_011385_0114CC_4FED', 'S1A_IW_GRDH_1SDV_20160525T221231_20160525T221256_011421_0115FD_6054', 'S1A_IW_GRDH_1SDV_20160606T221232_20160606T221257_011596_011B8A_E6B1', 'S1A_IW_GRDH_1SDV_20160630T221233_20160630T221258_011946_012696_1AA1', 'S1A_IW_GRDH_1SDV_20160712T221240_20160712T221305_012121_012C5B_8569', 'S1A_IW_GRDH_1SDV_20160817T221236_20160817T221301_012646_013D9A_4929', 'S1A_IW_GRDH_1SDV_20161018T095407_20161018T095432_013543_015ACD_AB15', 'S1A_IW_SLC__1SDV_20150914T102506_20150914T102536_007710_00AB4B_29F8', 'S1A_IW_SLC__1SDV_20150925T094621_20150925T094649_007870_00AF94_3E64', 'S1A_IW_SLC__1SDV_20151008T102506_20151008T102536_008060_00B4A7_8280', 'S1A_IW_SLC__1SDV_20151020T102506_20151020T102536_008235_00B97C_35E5', 'S1A_IW_SLC__1SDV_20151129T095422_20151129T095449_008818_00C950_A7B3', 'S1A_IW_SLC__1SDV_20160116T095420_20160116T095447_009518_00DD1D_34CF', 'S1A_IW_SLC__1SDV_20160304T095420_20160304T095447_010218_00F169_EF1C', 'S1A_IW_SLC__1SDV_20160312T102458_20160312T102528_010335_00F4DB_2C24', 'S1A_IW_SLC__1SDV_20160324T102458_20160324T102528_010510_00F9BF_852E', 'S1A_IW_SLC__1SDV_20160405T102459_20160405T102529_010685_00FED5_4707', 'S1A_IW_SLC__1SDV_20160421T095421_20160421T095448_010918_0105DD_E9F8', 'S1A_IW_SLC__1SDV_20160429T102500_20160429T102530_011035_01098C_EF0D', 'S1A_IW_SLC__1SDV_20160511T102500_20160511T102530_011210_010F14_C7E0', 'S1A_IW_SLC__1SDV_20160513T221230_20160513T221257_011246_011040_2948', 'S1A_IW_SLC__1SDV_20160515T095425_20160515T095452_011268_0110F6_EE88', 'S1A_IW_SLC__1SDV_20160518T084126_20160518T084153_011311_011260_F250', 'S1A_IW_SLC__1SDV_20160523T102501_20160523T102531_011385_0114CC_3E73', 'S1A_IW_SLC__1SDV_20160525T221230_20160525T221257_011421_0115FD_E01E', 'S1A_IW_SLC__1SDV_20160609T224735_20160609T224805_011640_011CF2_5CD4']\n"
     ]
    }
   ],
   "source": [
    "chemin = os.path.join(os.path.dirname(os.getcwd()), \"OpenSARShip\")\n",
    "print(os.listdir(chemin))"
   ]
  },
  {
   "cell_type": "code",
   "execution_count": 4,
   "metadata": {},
   "outputs": [],
   "source": [
    "# Fonction permettant de récupérer les informations pertinentes des fichiers XML\n",
    "def reformater_xml(chemin_xml):\n",
    "    tree = ET.parse(chemin_xml)\n",
    "    root = tree.getroot()\n",
    "    # Créer un nouvel élément ShipList\n",
    "    new_ship_list = ET.Element('ShipList')\n",
    "    # Parcourir les éléments ship\n",
    "    for ship_element in root.findall('.//ship'):\n",
    "        # Extraire les informations\n",
    "        center_x = ship_element.find('.//SARShipInformation/Center_x').text\n",
    "        center_y = ship_element.find('.//SARShipInformation/Center_y').text\n",
    "        elaborated_type = ship_element.find('.//MarineTrafficInformation/Elaborated_type').text\n",
    "        \n",
    "        # Créer un nouvel élément ship\n",
    "        new_ship = ET.Element('ship')\n",
    "        \n",
    "        # Créer les sous-éléments et ajouter les valeurs\n",
    "        center_x_element = ET.Element('Center_x')\n",
    "        center_x_element.text = center_x\n",
    "        new_ship.append(center_x_element)\n",
    "\n",
    "        center_y_element = ET.Element('Center_y')\n",
    "        center_y_element.text = center_y\n",
    "        new_ship.append(center_y_element)\n",
    "\n",
    "        elaborated_type_element = ET.Element('Elaborated_type')\n",
    "        elaborated_type_element.text = elaborated_type\n",
    "        new_ship.append(elaborated_type_element)\n",
    "\n",
    "        # Ajouter le nouvel élément ship à ShipList\n",
    "        new_ship_list.append(new_ship)\n",
    "        \n",
    "    # Créer un nouvel arbre XML avec le nouvel élément ShipList\n",
    "    new_tree = ET.ElementTree(new_ship_list)\n",
    "    \n",
    "    return new_tree"
   ]
  },
  {
   "cell_type": "code",
   "execution_count": 5,
   "metadata": {},
   "outputs": [
    {
     "name": "stdout",
     "output_type": "stream",
     "text": [
      "Traitement de c:\\Users\\Julia Fouchier\\Projet_syteme_3A\\OpenSARShip\\S1A_IW_GRDH_1SDV_20150823T221233_20150823T221258_007396_00A2CA_54D0\\Ship.xml\n",
      "Traitement de c:\\Users\\Julia Fouchier\\Projet_syteme_3A\\OpenSARShip\\S1A_IW_GRDH_1SDV_20150916T221233_20150916T221258_007746_00AC44_BA63\\Ship.xml\n",
      "Traitement de c:\\Users\\Julia Fouchier\\Projet_syteme_3A\\OpenSARShip\\S1A_IW_GRDH_1SDV_20150928T221239_20150928T221304_007921_00B100_32A3\\Ship.xml\n",
      "Traitement de c:\\Users\\Julia Fouchier\\Projet_syteme_3A\\OpenSARShip\\S1A_IW_GRDH_1SDV_20151010T221234_20151010T221259_008096_00B5A1_5C25\\Ship.xml\n",
      "Traitement de c:\\Users\\Julia Fouchier\\Projet_syteme_3A\\OpenSARShip\\S1A_IW_GRDH_1SDV_20160102T221226_20160102T221251_009321_00D788_F5BA\\Ship.xml\n",
      "Traitement de c:\\Users\\Julia Fouchier\\Projet_syteme_3A\\OpenSARShip\\S1A_IW_GRDH_1SDV_20160114T221226_20160114T221251_009496_00DC88_46B2\\Ship.xml\n",
      "Traitement de c:\\Users\\Julia Fouchier\\Projet_syteme_3A\\OpenSARShip\\S1A_IW_GRDH_1SDV_20160126T221225_20160126T221250_009671_00E1AF_228F\\Ship.xml\n",
      "Traitement de c:\\Users\\Julia Fouchier\\Projet_syteme_3A\\OpenSARShip\\S1A_IW_GRDH_1SDV_20160219T221225_20160219T221250_010021_00EBE1_C9D5\\Ship.xml\n",
      "Traitement de c:\\Users\\Julia Fouchier\\Projet_syteme_3A\\OpenSARShip\\S1A_IW_GRDH_1SDV_20160302T221225_20160302T221250_010196_00F0D2_D0C8\\Ship.xml\n",
      "Traitement de c:\\Users\\Julia Fouchier\\Projet_syteme_3A\\OpenSARShip\\S1A_IW_GRDH_1SDV_20160326T221226_20160326T221251_010546_00FAC9_4D44\\Ship.xml\n",
      "Traitement de c:\\Users\\Julia Fouchier\\Projet_syteme_3A\\OpenSARShip\\S1A_IW_GRDH_1SDV_20160328T095421_20160328T095446_010568_00FB64_215C\\Ship.xml\n",
      "Traitement de c:\\Users\\Julia Fouchier\\Projet_syteme_3A\\OpenSARShip\\S1A_IW_GRDH_1SDV_20160405T102459_20160405T102528_010685_00FED5_97D5\\Ship.xml\n",
      "Traitement de c:\\Users\\Julia Fouchier\\Projet_syteme_3A\\OpenSARShip\\S1A_IW_GRDH_1SDV_20160407T221226_20160407T221251_010721_00FFEA_ADBD\\Ship.xml\n",
      "Traitement de c:\\Users\\Julia Fouchier\\Projet_syteme_3A\\OpenSARShip\\S1A_IW_GRDH_1SDV_20160419T221227_20160419T221252_010896_01052F_69E2\\Ship.xml\n",
      "Traitement de c:\\Users\\Julia Fouchier\\Projet_syteme_3A\\OpenSARShip\\S1A_IW_GRDH_1SDV_20160513T221231_20160513T221256_011246_011040_617A\\Ship.xml\n",
      "Traitement de c:\\Users\\Julia Fouchier\\Projet_syteme_3A\\OpenSARShip\\S1A_IW_GRDH_1SDV_20160523T102501_20160523T102530_011385_0114CC_4FED\\Ship.xml\n",
      "Traitement de c:\\Users\\Julia Fouchier\\Projet_syteme_3A\\OpenSARShip\\S1A_IW_GRDH_1SDV_20160525T221231_20160525T221256_011421_0115FD_6054\\Ship.xml\n",
      "Traitement de c:\\Users\\Julia Fouchier\\Projet_syteme_3A\\OpenSARShip\\S1A_IW_GRDH_1SDV_20160606T221232_20160606T221257_011596_011B8A_E6B1\\Ship.xml\n",
      "Traitement de c:\\Users\\Julia Fouchier\\Projet_syteme_3A\\OpenSARShip\\S1A_IW_GRDH_1SDV_20160630T221233_20160630T221258_011946_012696_1AA1\\Ship.xml\n",
      "Traitement de c:\\Users\\Julia Fouchier\\Projet_syteme_3A\\OpenSARShip\\S1A_IW_GRDH_1SDV_20160712T221240_20160712T221305_012121_012C5B_8569\\Ship.xml\n",
      "Traitement de c:\\Users\\Julia Fouchier\\Projet_syteme_3A\\OpenSARShip\\S1A_IW_GRDH_1SDV_20160817T221236_20160817T221301_012646_013D9A_4929\\Ship.xml\n",
      "Traitement de c:\\Users\\Julia Fouchier\\Projet_syteme_3A\\OpenSARShip\\S1A_IW_GRDH_1SDV_20161018T095407_20161018T095432_013543_015ACD_AB15\\Ship.xml\n",
      "Traitement de c:\\Users\\Julia Fouchier\\Projet_syteme_3A\\OpenSARShip\\S1A_IW_SLC__1SDV_20150914T102506_20150914T102536_007710_00AB4B_29F8\\Ship.xml\n",
      "Traitement de c:\\Users\\Julia Fouchier\\Projet_syteme_3A\\OpenSARShip\\S1A_IW_SLC__1SDV_20150925T094621_20150925T094649_007870_00AF94_3E64\\Ship.xml\n",
      "Traitement de c:\\Users\\Julia Fouchier\\Projet_syteme_3A\\OpenSARShip\\S1A_IW_SLC__1SDV_20151008T102506_20151008T102536_008060_00B4A7_8280\\Ship.xml\n",
      "Traitement de c:\\Users\\Julia Fouchier\\Projet_syteme_3A\\OpenSARShip\\S1A_IW_SLC__1SDV_20151020T102506_20151020T102536_008235_00B97C_35E5\\Ship.xml\n",
      "Traitement de c:\\Users\\Julia Fouchier\\Projet_syteme_3A\\OpenSARShip\\S1A_IW_SLC__1SDV_20151129T095422_20151129T095449_008818_00C950_A7B3\\Ship.xml\n",
      "Traitement de c:\\Users\\Julia Fouchier\\Projet_syteme_3A\\OpenSARShip\\S1A_IW_SLC__1SDV_20160116T095420_20160116T095447_009518_00DD1D_34CF\\Ship.xml\n",
      "Traitement de c:\\Users\\Julia Fouchier\\Projet_syteme_3A\\OpenSARShip\\S1A_IW_SLC__1SDV_20160304T095420_20160304T095447_010218_00F169_EF1C\\Ship.xml\n",
      "Traitement de c:\\Users\\Julia Fouchier\\Projet_syteme_3A\\OpenSARShip\\S1A_IW_SLC__1SDV_20160312T102458_20160312T102528_010335_00F4DB_2C24\\Ship.xml\n",
      "Traitement de c:\\Users\\Julia Fouchier\\Projet_syteme_3A\\OpenSARShip\\S1A_IW_SLC__1SDV_20160324T102458_20160324T102528_010510_00F9BF_852E\\Ship.xml\n",
      "Traitement de c:\\Users\\Julia Fouchier\\Projet_syteme_3A\\OpenSARShip\\S1A_IW_SLC__1SDV_20160405T102459_20160405T102529_010685_00FED5_4707\\Ship.xml\n",
      "Traitement de c:\\Users\\Julia Fouchier\\Projet_syteme_3A\\OpenSARShip\\S1A_IW_SLC__1SDV_20160421T095421_20160421T095448_010918_0105DD_E9F8\\Ship.xml\n",
      "Traitement de c:\\Users\\Julia Fouchier\\Projet_syteme_3A\\OpenSARShip\\S1A_IW_SLC__1SDV_20160429T102500_20160429T102530_011035_01098C_EF0D\\Ship.xml\n",
      "Traitement de c:\\Users\\Julia Fouchier\\Projet_syteme_3A\\OpenSARShip\\S1A_IW_SLC__1SDV_20160511T102500_20160511T102530_011210_010F14_C7E0\\Ship.xml\n",
      "Traitement de c:\\Users\\Julia Fouchier\\Projet_syteme_3A\\OpenSARShip\\S1A_IW_SLC__1SDV_20160513T221230_20160513T221257_011246_011040_2948\\Ship.xml\n",
      "Traitement de c:\\Users\\Julia Fouchier\\Projet_syteme_3A\\OpenSARShip\\S1A_IW_SLC__1SDV_20160515T095425_20160515T095452_011268_0110F6_EE88\\Ship.xml\n",
      "Traitement de c:\\Users\\Julia Fouchier\\Projet_syteme_3A\\OpenSARShip\\S1A_IW_SLC__1SDV_20160518T084126_20160518T084153_011311_011260_F250\\Ship.xml\n",
      "Traitement de c:\\Users\\Julia Fouchier\\Projet_syteme_3A\\OpenSARShip\\S1A_IW_SLC__1SDV_20160523T102501_20160523T102531_011385_0114CC_3E73\\Ship.xml\n",
      "Traitement de c:\\Users\\Julia Fouchier\\Projet_syteme_3A\\OpenSARShip\\S1A_IW_SLC__1SDV_20160525T221230_20160525T221257_011421_0115FD_E01E\\Ship.xml\n",
      "Traitement de c:\\Users\\Julia Fouchier\\Projet_syteme_3A\\OpenSARShip\\S1A_IW_SLC__1SDV_20160609T224735_20160609T224805_011640_011CF2_5CD4\\Ship.xml\n"
     ]
    }
   ],
   "source": [
    "for sous_dossier in os.listdir(chemin):\n",
    "    sous_chemin = os.path.join(chemin, sous_dossier)\n",
    "    if os.path.isdir(sous_chemin):\n",
    "        xml_path = os.path.join(sous_chemin, \"Ship.xml\")\n",
    "        if os.path.isfile(os.path.join(sous_chemin,'Ship.xml')):\n",
    "            print(f\"Traitement de {xml_path}\")\n",
    "            new_tree = reformater_xml(xml_path)\n",
    "            # Enregistrer le nouvel arbre XML dans un fichier\n",
    "            new_tree.write(os.path.join(sous_chemin, 'Ship_reformated.xml'), encoding='utf-8', xml_declaration=True, method=\"xml\", short_empty_elements=False)\n",
    "        else:\n",
    "            print(f\"Aucun fichier Ship.xml trouvé dans {sous_dossier}\")\n",
    "\n",
    "    else:\n",
    "        print(\"Ce n'est pas un sous-dossier\")"
   ]
  },
  {
   "cell_type": "markdown",
   "metadata": {},
   "source": [
    "## Delete the wrong files (if needed)"
   ]
  },
  {
   "cell_type": "code",
   "execution_count": 3,
   "metadata": {},
   "outputs": [
    {
     "name": "stdout",
     "output_type": "stream",
     "text": [
      "Deleted: c:\\Users\\Julia Fouchier\\Projet_syteme_3A\\OpenSARShip\\S1A_IW_GRDH_1SDV_20150823T221233_20150823T221258_007396_00A2CA_54D0\\Ship_reformated.xml\n",
      "Deleted: c:\\Users\\Julia Fouchier\\Projet_syteme_3A\\OpenSARShip\\S1A_IW_GRDH_1SDV_20150916T221233_20150916T221258_007746_00AC44_BA63\\Ship_reformated.xml\n",
      "Deleted: c:\\Users\\Julia Fouchier\\Projet_syteme_3A\\OpenSARShip\\S1A_IW_GRDH_1SDV_20150928T221239_20150928T221304_007921_00B100_32A3\\Ship_reformated.xml\n",
      "Deleted: c:\\Users\\Julia Fouchier\\Projet_syteme_3A\\OpenSARShip\\S1A_IW_GRDH_1SDV_20151010T221234_20151010T221259_008096_00B5A1_5C25\\Ship_reformated.xml\n",
      "Deleted: c:\\Users\\Julia Fouchier\\Projet_syteme_3A\\OpenSARShip\\S1A_IW_GRDH_1SDV_20160102T221226_20160102T221251_009321_00D788_F5BA\\Ship_reformated.xml\n",
      "Deleted: c:\\Users\\Julia Fouchier\\Projet_syteme_3A\\OpenSARShip\\S1A_IW_GRDH_1SDV_20160114T221226_20160114T221251_009496_00DC88_46B2\\Ship_reformated.xml\n",
      "Deleted: c:\\Users\\Julia Fouchier\\Projet_syteme_3A\\OpenSARShip\\S1A_IW_GRDH_1SDV_20160126T221225_20160126T221250_009671_00E1AF_228F\\Ship_reformated.xml\n",
      "Deleted: c:\\Users\\Julia Fouchier\\Projet_syteme_3A\\OpenSARShip\\S1A_IW_GRDH_1SDV_20160219T221225_20160219T221250_010021_00EBE1_C9D5\\Ship_reformated.xml\n",
      "Deleted: c:\\Users\\Julia Fouchier\\Projet_syteme_3A\\OpenSARShip\\S1A_IW_GRDH_1SDV_20160302T221225_20160302T221250_010196_00F0D2_D0C8\\Ship_reformated.xml\n",
      "Deleted: c:\\Users\\Julia Fouchier\\Projet_syteme_3A\\OpenSARShip\\S1A_IW_GRDH_1SDV_20160326T221226_20160326T221251_010546_00FAC9_4D44\\Ship_reformated.xml\n",
      "Deleted: c:\\Users\\Julia Fouchier\\Projet_syteme_3A\\OpenSARShip\\S1A_IW_GRDH_1SDV_20160328T095421_20160328T095446_010568_00FB64_215C\\Ship_reformated.xml\n",
      "Deleted: c:\\Users\\Julia Fouchier\\Projet_syteme_3A\\OpenSARShip\\S1A_IW_GRDH_1SDV_20160405T102459_20160405T102528_010685_00FED5_97D5\\Ship_reformated.xml\n",
      "Deleted: c:\\Users\\Julia Fouchier\\Projet_syteme_3A\\OpenSARShip\\S1A_IW_GRDH_1SDV_20160407T221226_20160407T221251_010721_00FFEA_ADBD\\Ship_reformated.xml\n",
      "Deleted: c:\\Users\\Julia Fouchier\\Projet_syteme_3A\\OpenSARShip\\S1A_IW_GRDH_1SDV_20160419T221227_20160419T221252_010896_01052F_69E2\\Ship_reformated.xml\n",
      "Deleted: c:\\Users\\Julia Fouchier\\Projet_syteme_3A\\OpenSARShip\\S1A_IW_GRDH_1SDV_20160513T221231_20160513T221256_011246_011040_617A\\Ship_reformated.xml\n",
      "Deleted: c:\\Users\\Julia Fouchier\\Projet_syteme_3A\\OpenSARShip\\S1A_IW_GRDH_1SDV_20160523T102501_20160523T102530_011385_0114CC_4FED\\Ship_reformated.xml\n",
      "Deleted: c:\\Users\\Julia Fouchier\\Projet_syteme_3A\\OpenSARShip\\S1A_IW_GRDH_1SDV_20160525T221231_20160525T221256_011421_0115FD_6054\\Ship_reformated.xml\n",
      "Deleted: c:\\Users\\Julia Fouchier\\Projet_syteme_3A\\OpenSARShip\\S1A_IW_GRDH_1SDV_20160606T221232_20160606T221257_011596_011B8A_E6B1\\Ship_reformated.xml\n",
      "Deleted: c:\\Users\\Julia Fouchier\\Projet_syteme_3A\\OpenSARShip\\S1A_IW_GRDH_1SDV_20160630T221233_20160630T221258_011946_012696_1AA1\\Ship_reformated.xml\n",
      "Deleted: c:\\Users\\Julia Fouchier\\Projet_syteme_3A\\OpenSARShip\\S1A_IW_GRDH_1SDV_20160712T221240_20160712T221305_012121_012C5B_8569\\Ship_reformated.xml\n",
      "Deleted: c:\\Users\\Julia Fouchier\\Projet_syteme_3A\\OpenSARShip\\S1A_IW_GRDH_1SDV_20160817T221236_20160817T221301_012646_013D9A_4929\\Ship_reformated.xml\n",
      "Deleted: c:\\Users\\Julia Fouchier\\Projet_syteme_3A\\OpenSARShip\\S1A_IW_GRDH_1SDV_20161018T095407_20161018T095432_013543_015ACD_AB15\\Ship_reformated.xml\n",
      "Deleted: c:\\Users\\Julia Fouchier\\Projet_syteme_3A\\OpenSARShip\\S1A_IW_SLC__1SDV_20150914T102506_20150914T102536_007710_00AB4B_29F8\\Ship_reformated.xml\n",
      "Deleted: c:\\Users\\Julia Fouchier\\Projet_syteme_3A\\OpenSARShip\\S1A_IW_SLC__1SDV_20150925T094621_20150925T094649_007870_00AF94_3E64\\Ship_reformated.xml\n",
      "Deleted: c:\\Users\\Julia Fouchier\\Projet_syteme_3A\\OpenSARShip\\S1A_IW_SLC__1SDV_20151008T102506_20151008T102536_008060_00B4A7_8280\\Ship_reformated.xml\n",
      "Deleted: c:\\Users\\Julia Fouchier\\Projet_syteme_3A\\OpenSARShip\\S1A_IW_SLC__1SDV_20151020T102506_20151020T102536_008235_00B97C_35E5\\Ship_reformated.xml\n",
      "Deleted: c:\\Users\\Julia Fouchier\\Projet_syteme_3A\\OpenSARShip\\S1A_IW_SLC__1SDV_20151129T095422_20151129T095449_008818_00C950_A7B3\\Ship_reformated.xml\n",
      "Deleted: c:\\Users\\Julia Fouchier\\Projet_syteme_3A\\OpenSARShip\\S1A_IW_SLC__1SDV_20160116T095420_20160116T095447_009518_00DD1D_34CF\\Ship_reformated.xml\n",
      "Deleted: c:\\Users\\Julia Fouchier\\Projet_syteme_3A\\OpenSARShip\\S1A_IW_SLC__1SDV_20160304T095420_20160304T095447_010218_00F169_EF1C\\Ship_reformated.xml\n",
      "Deleted: c:\\Users\\Julia Fouchier\\Projet_syteme_3A\\OpenSARShip\\S1A_IW_SLC__1SDV_20160312T102458_20160312T102528_010335_00F4DB_2C24\\Ship_reformated.xml\n",
      "Deleted: c:\\Users\\Julia Fouchier\\Projet_syteme_3A\\OpenSARShip\\S1A_IW_SLC__1SDV_20160324T102458_20160324T102528_010510_00F9BF_852E\\Ship_reformated.xml\n",
      "Deleted: c:\\Users\\Julia Fouchier\\Projet_syteme_3A\\OpenSARShip\\S1A_IW_SLC__1SDV_20160405T102459_20160405T102529_010685_00FED5_4707\\Ship_reformated.xml\n",
      "Deleted: c:\\Users\\Julia Fouchier\\Projet_syteme_3A\\OpenSARShip\\S1A_IW_SLC__1SDV_20160421T095421_20160421T095448_010918_0105DD_E9F8\\Ship_reformated.xml\n",
      "Deleted: c:\\Users\\Julia Fouchier\\Projet_syteme_3A\\OpenSARShip\\S1A_IW_SLC__1SDV_20160429T102500_20160429T102530_011035_01098C_EF0D\\Ship_reformated.xml\n",
      "Deleted: c:\\Users\\Julia Fouchier\\Projet_syteme_3A\\OpenSARShip\\S1A_IW_SLC__1SDV_20160511T102500_20160511T102530_011210_010F14_C7E0\\Ship_reformated.xml\n",
      "Deleted: c:\\Users\\Julia Fouchier\\Projet_syteme_3A\\OpenSARShip\\S1A_IW_SLC__1SDV_20160513T221230_20160513T221257_011246_011040_2948\\Ship_reformated.xml\n",
      "Deleted: c:\\Users\\Julia Fouchier\\Projet_syteme_3A\\OpenSARShip\\S1A_IW_SLC__1SDV_20160515T095425_20160515T095452_011268_0110F6_EE88\\Ship_reformated.xml\n",
      "Deleted: c:\\Users\\Julia Fouchier\\Projet_syteme_3A\\OpenSARShip\\S1A_IW_SLC__1SDV_20160518T084126_20160518T084153_011311_011260_F250\\Ship_reformated.xml\n",
      "Deleted: c:\\Users\\Julia Fouchier\\Projet_syteme_3A\\OpenSARShip\\S1A_IW_SLC__1SDV_20160523T102501_20160523T102531_011385_0114CC_3E73\\Ship_reformated.xml\n",
      "Deleted: c:\\Users\\Julia Fouchier\\Projet_syteme_3A\\OpenSARShip\\S1A_IW_SLC__1SDV_20160525T221230_20160525T221257_011421_0115FD_E01E\\Ship_reformated.xml\n",
      "Deleted: c:\\Users\\Julia Fouchier\\Projet_syteme_3A\\OpenSARShip\\S1A_IW_SLC__1SDV_20160609T224735_20160609T224805_011640_011CF2_5CD4\\Ship_reformated.xml\n"
     ]
    }
   ],
   "source": [
    "# Function to delete all Ship_reformated.xml files\n",
    "def delete_reformated_files(directory):\n",
    "    for root, dirs, files in os.walk(directory):\n",
    "        for file in files:\n",
    "            if file == 'Ship_reformated.xml':\n",
    "                os.remove(os.path.join(root, file))\n",
    "                print(f\"Deleted: {os.path.join(root, file)}\")\n",
    "\n",
    "# Call the function\n",
    "delete_reformated_files(chemin)"
   ]
  }
 ],
 "metadata": {
  "kernelspec": {
   "display_name": "tensorflow_new",
   "language": "python",
   "name": "python3"
  },
  "language_info": {
   "codemirror_mode": {
    "name": "ipython",
    "version": 3
   },
   "file_extension": ".py",
   "mimetype": "text/x-python",
   "name": "python",
   "nbconvert_exporter": "python",
   "pygments_lexer": "ipython3",
   "version": "3.10.13"
  }
 },
 "nbformat": 4,
 "nbformat_minor": 2
}
